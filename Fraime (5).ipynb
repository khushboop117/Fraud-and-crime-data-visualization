{
 "cells": [
  {
   "cell_type": "markdown",
   "metadata": {},
   "source": [
    "<hr><center><u><font face=Castellar size=6 color=blue>Topic Name</font></u></center><br>\n",
    "<center><b><font face=\"Century\" size=10 color=red>San Francisco's FRAIME</font></b></center><br>\n",
    "<center><b><font face=\"Century\" size=5 color=red>(FRAUD + CRIME = FRAIME)</font></b></center>"
   ]
  },
  {
   "cell_type": "markdown",
   "metadata": {},
   "source": [
    "<center><u><font face=\"Castellar\" size=6 color=blue>Team Members</font></u></center><br>\n",
    "<table>\n",
    "    <tr><td><b><font face=\"Californian FB\" color=purple size=6>Name</font></b></td>\n",
    "        <td><b><font face=\"Californian FB\" color=green size=5>Khushboo Patel</font></b></td>\n",
    "        <td><b><font face=\"Californian FB\" color=green size=5>Moxshil Shah</font></b></td>\n",
    "    </tr>\n",
    "    <tr><td><b><font face=\"Californian FB\" color=purple size=6>Student ID</font></b></td> \n",
    "        <td><b><font face=\"Californian FB\" color=green size=5>989354961</font></b></td>\n",
    "        <td><b><font face=\"Californian FB\" color=green size=5>989353601</font></b></td>\n",
    "    </tr>\n",
    "    </table>"
   ]
  },
  {
   "cell_type": "markdown",
   "metadata": {},
   "source": [
    "<center><u><font face=\"Castellar\" color=blue size=6>CONTENTS</font></u></center><br>\n",
    "<table>\n",
    "    <tr><td><b><font face=\"Californian FB\" color=purple size=5>A. Exploratory Data Analysis</font></b></td>\n",
    "        <td><b><font face=\"Californian FB\" color=green size=4>1. Objective</font></b></td>\n",
    "        <td><b><font face=\"Californian FB\" color=green size=4>2. Data Exploration</font></b></td>\n",
    "        <td><b><font face=\"Californian FB\" color=green size=4>3. Data Cleaning</font></b></td>\n",
    "        <td><b><font face=\"Californian FB\" color=green size=4>4. Adaptation</font></b></td>\n",
    "    </tr>\n",
    "    <tr><td><b><font face=\"Californian FB\" color=purple size=5>B. Visualization</font></b></td> \n",
    "        <td><b><font face=\"Californian FB\" color=green size=4>5. Descriptive Static Visualization</font></b></td>\n",
    "    </tr>\n",
    "    <tr><td><b><font face=\"Californian FB\" color=purple size=5>C. Cluster Analysis</font></b></td> \n",
    "        <td><b><font face=\"Californian FB\" color=green size=4>6. Step by Step Hierarchical Clustering</font></b></td>\n",
    "        <td><b><font face=\"Californian FB\" color=green size=4>7. Dendrogram</font></b></td>\n",
    "    </tr>\n",
    "    <tr><td><b><font face=\"Californian FB\" color=purple size=5>D. Unsupervised Clustering</font></b></td> \n",
    "        <td><b><font face=\"Californian FB\" color=green size=4>8. Step by Step K Means</font></b></td>\n",
    "        <td><b><font face=\"Californian FB\" color=green size=4>9. sklearn.cluster</font></b></td>\n",
    "    </tr>\n",
    "    <tr><td><b><font face=\"Californian FB\" color=purple size=5>E. Supervised Clustering</font></b></td> \n",
    "        <td><b><font face=\"Californian FB\" color=green size=4>10. kNN Function</font></b></td>\n",
    "    </tr>\n",
    "    <tr><td><b><font face=\"Californian FB\" color=purple size=5>F. Findings</font></b></td> \n",
    "        <td><b><font face=\"Californian FB\" color=green size=4>11. Project Report</font></b></td>\n",
    "    </tr>\n",
    "    <tr><td><b><font face=\"Californian FB\" color=purple size=5>G. Originality</font></b></td> \n",
    "    </tr>\n",
    "    </table>\n",
    "    <hr>"
   ]
  },
  {
   "cell_type": "markdown",
   "metadata": {},
   "source": [
    "<br><b><font face=\"Californian FB\" color=gray size=7>A. Exploratory Data Analysis</font></b>"
   ]
  },
  {
   "cell_type": "markdown",
   "metadata": {},
   "source": [
    "<center><b><font face=\"Century\" color=purple size=6>1. Objective</font></b></center>"
   ]
  },
  {
   "cell_type": "markdown",
   "metadata": {},
   "source": [
    "<ul><li><p>A <b>crime</b> is an unlawful act punishable by state or any other authority. According to the modern criminal law there is no simple and universal definition for crime. Although statutory definitions have been provided for certain purposes.</p></li>\n",
    "    <li><p>There are <i><u>FIVE OBJECTIVES</u></i> which are accepted for enforcement of criminal laws.</p></li>\n",
    "    <br>\n",
    "    <li><p><b>RETRIBUTION</b> – This objective is aimed at satisfying the thirst for revenge, anger, and hate. The idea is that criminals ought to suffer in some way for their crimes.</p></li>\n",
    "    <li><p><b>DETERRENCE</b> – The objective of deterrence has two sub-parts. Individual deterrence is aimed toward the specific offender. The goal is to impose a sufficient penalty to discourage the offender from criminal behavior. General deterrence aims at society as a whole. By imposing a penalty on those who commit offenses, other individuals are discouraged from committing those offenses.</p></li>\n",
    "    <li><p><b>INCAPACITATION</b> – This is the most simplistic of the five objectives. Incapacitation is designed to just keep criminals away from society so that the public is protected from their dangerous behavior. This is often achieved through lengthy prison sentences today. However, the death penalty and banishment provisions in a sentence can serve the same purpose.</p></li>\n",
    "    <li><p><b>REHABILITATION</b> – Rehabilitation is one of the newer aims in the criminal justice system. This approach tries to transform an offender into a valuable member of society. Its primary goal is to prevent further crimes by treating the underlying issues that may be causing the criminal behavior.</p></li>\n",
    "    <li><p><b>RESTORATION</b> – This goal can really be applied to any of the four above. The idea is to repair any injury inflicted upon the victim by the offender.</p></li>\n",
    "    <li><p>This report includes analysis of various crimes like <b>Malicious Mischief</b>, <b>Assault</b>, <b>Rape</b>, <b>Thief</b>, <b>Murder</b> and various other criminal and non-criminal acts. The stake holder for this analysis is <b>Police Department</b> and <b>Media</b>. This analysis will help police department to know the frequency of several crime, its intensity and consequence to better improve the safety of the city. It will also help them to know how well their department is working and predict the actions and decision to be taken in future.</p></li>\n",
    "</ul>"
   ]
  },
  {
   "cell_type": "markdown",
   "metadata": {},
   "source": [
    "<center><b><font face=\"Century\" color=purple size=6>2. Data Exploration</font></b></center>"
   ]
  },
  {
   "cell_type": "markdown",
   "metadata": {},
   "source": [
    "# Libraries"
   ]
  },
  {
   "cell_type": "code",
   "execution_count": 1,
   "metadata": {},
   "outputs": [],
   "source": [
    "import pandas as pd\n",
    "import numpy as np\n",
    "import matplotlib.pyplot as plt\n",
    "import seaborn as sns\n",
    "from pandas import DataFrame\n",
    "from scipy.cluster.hierarchy import dendrogram, linkage, leaves_list\n",
    "from sklearn.cluster import KMeans\n",
    "from sklearn.preprocessing import MinMaxScaler\n",
    "from mpl_toolkits.mplot3d import Axes3D\n",
    "from sklearn.model_selection import train_test_split\n",
    "from sklearn.neighbors import KNeighborsClassifier\n",
    "from sklearn.metrics.pairwise import euclidean_distances\n",
    "from sklearn.cluster import AgglomerativeClustering\n",
    "from pylab import rcParams\n",
    "rcParams['figure.figsize'] = 10,10\n",
    "import seaborn as sns\n",
    "sns.set_style(\"whitegrid\")"
   ]
  },
  {
   "cell_type": "markdown",
   "metadata": {},
   "source": [
    "# 2.1 Loading the CSV File and Displaying the Top and Bottom 10 Rows\n",
    "## 2.1.1 Output 1"
   ]
  },
  {
   "cell_type": "code",
   "execution_count": 2,
   "metadata": {
    "scrolled": false
   },
   "outputs": [
    {
     "data": {
      "text/html": [
       "<div>\n",
       "<style scoped>\n",
       "    .dataframe tbody tr th:only-of-type {\n",
       "        vertical-align: middle;\n",
       "    }\n",
       "\n",
       "    .dataframe tbody tr th {\n",
       "        vertical-align: top;\n",
       "    }\n",
       "\n",
       "    .dataframe thead th {\n",
       "        text-align: right;\n",
       "    }\n",
       "</style>\n",
       "<table border=\"1\" class=\"dataframe\">\n",
       "  <thead>\n",
       "    <tr style=\"text-align: right;\">\n",
       "      <th></th>\n",
       "      <th>Incident Datetime</th>\n",
       "      <th>Incident Date</th>\n",
       "      <th>Incident Time</th>\n",
       "      <th>Incident Year</th>\n",
       "      <th>Incident Day of Week</th>\n",
       "      <th>Report Datetime</th>\n",
       "      <th>Row ID</th>\n",
       "      <th>Incident ID</th>\n",
       "      <th>Incident Number</th>\n",
       "      <th>CAD Number</th>\n",
       "      <th>...</th>\n",
       "      <th>Longitude</th>\n",
       "      <th>point</th>\n",
       "      <th>SF Find Neighborhoods</th>\n",
       "      <th>Current Police Districts</th>\n",
       "      <th>Current Supervisor Districts</th>\n",
       "      <th>Analysis Neighborhoods</th>\n",
       "      <th>HSOC Zones as of 2018-06-05</th>\n",
       "      <th>OWED Public Spaces</th>\n",
       "      <th>Central Market/Tenderloin Boundary Polygon - Updated</th>\n",
       "      <th>Parks Alliance CPSI (27+TL sites)</th>\n",
       "    </tr>\n",
       "  </thead>\n",
       "  <tbody>\n",
       "    <tr>\n",
       "      <td>0</td>\n",
       "      <td>2018/07/18 01:30:00 PM</td>\n",
       "      <td>2018/07/18</td>\n",
       "      <td>13:30</td>\n",
       "      <td>2018</td>\n",
       "      <td>Wednesday</td>\n",
       "      <td>2018/07/18 01:31:00 PM</td>\n",
       "      <td>69250964070</td>\n",
       "      <td>692509</td>\n",
       "      <td>180536729</td>\n",
       "      <td>182001522.0</td>\n",
       "      <td>...</td>\n",
       "      <td>NaN</td>\n",
       "      <td>NaN</td>\n",
       "      <td>NaN</td>\n",
       "      <td>NaN</td>\n",
       "      <td>NaN</td>\n",
       "      <td>NaN</td>\n",
       "      <td>NaN</td>\n",
       "      <td>NaN</td>\n",
       "      <td>NaN</td>\n",
       "      <td>NaN</td>\n",
       "    </tr>\n",
       "    <tr>\n",
       "      <td>1</td>\n",
       "      <td>2019/04/08 05:25:00 AM</td>\n",
       "      <td>2019/04/08</td>\n",
       "      <td>05:25</td>\n",
       "      <td>2019</td>\n",
       "      <td>Monday</td>\n",
       "      <td>2019/04/13 01:34:00 PM</td>\n",
       "      <td>79165671000</td>\n",
       "      <td>791656</td>\n",
       "      <td>196076240</td>\n",
       "      <td>NaN</td>\n",
       "      <td>...</td>\n",
       "      <td>NaN</td>\n",
       "      <td>NaN</td>\n",
       "      <td>NaN</td>\n",
       "      <td>NaN</td>\n",
       "      <td>NaN</td>\n",
       "      <td>NaN</td>\n",
       "      <td>NaN</td>\n",
       "      <td>NaN</td>\n",
       "      <td>NaN</td>\n",
       "      <td>NaN</td>\n",
       "    </tr>\n",
       "    <tr>\n",
       "      <td>2</td>\n",
       "      <td>2019/06/05 02:00:00 PM</td>\n",
       "      <td>2019/06/05</td>\n",
       "      <td>14:00</td>\n",
       "      <td>2019</td>\n",
       "      <td>Wednesday</td>\n",
       "      <td>2019/06/05 02:30:00 PM</td>\n",
       "      <td>81006072000</td>\n",
       "      <td>810060</td>\n",
       "      <td>190416337</td>\n",
       "      <td>191610728.0</td>\n",
       "      <td>...</td>\n",
       "      <td>-122.422464</td>\n",
       "      <td>(37.78268536745206, -122.42246374465972)</td>\n",
       "      <td>100.0</td>\n",
       "      <td>4.0</td>\n",
       "      <td>11.0</td>\n",
       "      <td>39.0</td>\n",
       "      <td>NaN</td>\n",
       "      <td>NaN</td>\n",
       "      <td>NaN</td>\n",
       "      <td>NaN</td>\n",
       "    </tr>\n",
       "    <tr>\n",
       "      <td>3</td>\n",
       "      <td>2019/04/16 08:20:00 PM</td>\n",
       "      <td>2019/04/16</td>\n",
       "      <td>20:20</td>\n",
       "      <td>2019</td>\n",
       "      <td>Tuesday</td>\n",
       "      <td>2019/04/17 12:21:00 AM</td>\n",
       "      <td>79171306244</td>\n",
       "      <td>791713</td>\n",
       "      <td>196076024</td>\n",
       "      <td>NaN</td>\n",
       "      <td>...</td>\n",
       "      <td>NaN</td>\n",
       "      <td>NaN</td>\n",
       "      <td>NaN</td>\n",
       "      <td>NaN</td>\n",
       "      <td>NaN</td>\n",
       "      <td>NaN</td>\n",
       "      <td>NaN</td>\n",
       "      <td>NaN</td>\n",
       "      <td>NaN</td>\n",
       "      <td>NaN</td>\n",
       "    </tr>\n",
       "    <tr>\n",
       "      <td>4</td>\n",
       "      <td>2019/06/10 11:00:00 AM</td>\n",
       "      <td>2019/06/10</td>\n",
       "      <td>11:00</td>\n",
       "      <td>2019</td>\n",
       "      <td>Monday</td>\n",
       "      <td>2019/06/10 11:00:00 AM</td>\n",
       "      <td>81012372000</td>\n",
       "      <td>810123</td>\n",
       "      <td>190393440</td>\n",
       "      <td>191521989.0</td>\n",
       "      <td>...</td>\n",
       "      <td>-122.464145</td>\n",
       "      <td>(37.779090726308574, -122.46414497098554)</td>\n",
       "      <td>5.0</td>\n",
       "      <td>8.0</td>\n",
       "      <td>4.0</td>\n",
       "      <td>11.0</td>\n",
       "      <td>NaN</td>\n",
       "      <td>NaN</td>\n",
       "      <td>NaN</td>\n",
       "      <td>NaN</td>\n",
       "    </tr>\n",
       "    <tr>\n",
       "      <td>5</td>\n",
       "      <td>2019/06/10 06:57:00 PM</td>\n",
       "      <td>2019/06/10</td>\n",
       "      <td>18:57</td>\n",
       "      <td>2019</td>\n",
       "      <td>Monday</td>\n",
       "      <td>2019/06/10 06:57:00 PM</td>\n",
       "      <td>81021904134</td>\n",
       "      <td>810219</td>\n",
       "      <td>190417987</td>\n",
       "      <td>191613730.0</td>\n",
       "      <td>...</td>\n",
       "      <td>-122.416072</td>\n",
       "      <td>(37.784448840613585, -122.41607173623363)</td>\n",
       "      <td>20.0</td>\n",
       "      <td>5.0</td>\n",
       "      <td>10.0</td>\n",
       "      <td>36.0</td>\n",
       "      <td>NaN</td>\n",
       "      <td>NaN</td>\n",
       "      <td>1.0</td>\n",
       "      <td>NaN</td>\n",
       "    </tr>\n",
       "    <tr>\n",
       "      <td>6</td>\n",
       "      <td>2019/04/18 01:42:00 PM</td>\n",
       "      <td>2019/04/18</td>\n",
       "      <td>13:42</td>\n",
       "      <td>2019</td>\n",
       "      <td>Thursday</td>\n",
       "      <td>2019/04/18 01:58:00 PM</td>\n",
       "      <td>79186007045</td>\n",
       "      <td>791860</td>\n",
       "      <td>190256832</td>\n",
       "      <td>NaN</td>\n",
       "      <td>...</td>\n",
       "      <td>NaN</td>\n",
       "      <td>NaN</td>\n",
       "      <td>NaN</td>\n",
       "      <td>NaN</td>\n",
       "      <td>NaN</td>\n",
       "      <td>NaN</td>\n",
       "      <td>NaN</td>\n",
       "      <td>NaN</td>\n",
       "      <td>NaN</td>\n",
       "      <td>NaN</td>\n",
       "    </tr>\n",
       "    <tr>\n",
       "      <td>7</td>\n",
       "      <td>2019/06/10 01:30:00 AM</td>\n",
       "      <td>2019/06/10</td>\n",
       "      <td>01:30</td>\n",
       "      <td>2019</td>\n",
       "      <td>Monday</td>\n",
       "      <td>2019/06/10 02:53:00 AM</td>\n",
       "      <td>80997904134</td>\n",
       "      <td>809979</td>\n",
       "      <td>190416070</td>\n",
       "      <td>191610294.0</td>\n",
       "      <td>...</td>\n",
       "      <td>-122.442554</td>\n",
       "      <td>(37.723168313513796, -122.44255366318426)</td>\n",
       "      <td>80.0</td>\n",
       "      <td>9.0</td>\n",
       "      <td>1.0</td>\n",
       "      <td>28.0</td>\n",
       "      <td>NaN</td>\n",
       "      <td>NaN</td>\n",
       "      <td>NaN</td>\n",
       "      <td>NaN</td>\n",
       "    </tr>\n",
       "    <tr>\n",
       "      <td>8</td>\n",
       "      <td>2019/06/09 11:08:00 PM</td>\n",
       "      <td>2019/06/09</td>\n",
       "      <td>23:08</td>\n",
       "      <td>2019</td>\n",
       "      <td>Sunday</td>\n",
       "      <td>2019/06/10 09:28:00 PM</td>\n",
       "      <td>81026328150</td>\n",
       "      <td>810263</td>\n",
       "      <td>190418264</td>\n",
       "      <td>191612805.0</td>\n",
       "      <td>...</td>\n",
       "      <td>-122.405654</td>\n",
       "      <td>(37.792486577710505, -122.40565433889059)</td>\n",
       "      <td>104.0</td>\n",
       "      <td>6.0</td>\n",
       "      <td>3.0</td>\n",
       "      <td>8.0</td>\n",
       "      <td>NaN</td>\n",
       "      <td>NaN</td>\n",
       "      <td>NaN</td>\n",
       "      <td>NaN</td>\n",
       "    </tr>\n",
       "    <tr>\n",
       "      <td>9</td>\n",
       "      <td>2019/06/03 01:15:00 PM</td>\n",
       "      <td>2019/06/03</td>\n",
       "      <td>13:15</td>\n",
       "      <td>2019</td>\n",
       "      <td>Monday</td>\n",
       "      <td>2019/06/05 05:43:00 PM</td>\n",
       "      <td>81004006374</td>\n",
       "      <td>810040</td>\n",
       "      <td>190398365</td>\n",
       "      <td>NaN</td>\n",
       "      <td>...</td>\n",
       "      <td>-122.431904</td>\n",
       "      <td>(37.77096442475283, -122.43190432509802)</td>\n",
       "      <td>28.0</td>\n",
       "      <td>7.0</td>\n",
       "      <td>11.0</td>\n",
       "      <td>3.0</td>\n",
       "      <td>NaN</td>\n",
       "      <td>NaN</td>\n",
       "      <td>NaN</td>\n",
       "      <td>NaN</td>\n",
       "    </tr>\n",
       "  </tbody>\n",
       "</table>\n",
       "<p>10 rows × 34 columns</p>\n",
       "</div>"
      ],
      "text/plain": [
       "        Incident Datetime Incident Date Incident Time  Incident Year  \\\n",
       "0  2018/07/18 01:30:00 PM    2018/07/18         13:30           2018   \n",
       "1  2019/04/08 05:25:00 AM    2019/04/08         05:25           2019   \n",
       "2  2019/06/05 02:00:00 PM    2019/06/05         14:00           2019   \n",
       "3  2019/04/16 08:20:00 PM    2019/04/16         20:20           2019   \n",
       "4  2019/06/10 11:00:00 AM    2019/06/10         11:00           2019   \n",
       "5  2019/06/10 06:57:00 PM    2019/06/10         18:57           2019   \n",
       "6  2019/04/18 01:42:00 PM    2019/04/18         13:42           2019   \n",
       "7  2019/06/10 01:30:00 AM    2019/06/10         01:30           2019   \n",
       "8  2019/06/09 11:08:00 PM    2019/06/09         23:08           2019   \n",
       "9  2019/06/03 01:15:00 PM    2019/06/03         13:15           2019   \n",
       "\n",
       "  Incident Day of Week         Report Datetime       Row ID  Incident ID  \\\n",
       "0            Wednesday  2018/07/18 01:31:00 PM  69250964070       692509   \n",
       "1               Monday  2019/04/13 01:34:00 PM  79165671000       791656   \n",
       "2            Wednesday  2019/06/05 02:30:00 PM  81006072000       810060   \n",
       "3              Tuesday  2019/04/17 12:21:00 AM  79171306244       791713   \n",
       "4               Monday  2019/06/10 11:00:00 AM  81012372000       810123   \n",
       "5               Monday  2019/06/10 06:57:00 PM  81021904134       810219   \n",
       "6             Thursday  2019/04/18 01:58:00 PM  79186007045       791860   \n",
       "7               Monday  2019/06/10 02:53:00 AM  80997904134       809979   \n",
       "8               Sunday  2019/06/10 09:28:00 PM  81026328150       810263   \n",
       "9               Monday  2019/06/05 05:43:00 PM  81004006374       810040   \n",
       "\n",
       "   Incident Number   CAD Number  ...   Longitude  \\\n",
       "0        180536729  182001522.0  ...         NaN   \n",
       "1        196076240          NaN  ...         NaN   \n",
       "2        190416337  191610728.0  ... -122.422464   \n",
       "3        196076024          NaN  ...         NaN   \n",
       "4        190393440  191521989.0  ... -122.464145   \n",
       "5        190417987  191613730.0  ... -122.416072   \n",
       "6        190256832          NaN  ...         NaN   \n",
       "7        190416070  191610294.0  ... -122.442554   \n",
       "8        190418264  191612805.0  ... -122.405654   \n",
       "9        190398365          NaN  ... -122.431904   \n",
       "\n",
       "                                       point SF Find Neighborhoods  \\\n",
       "0                                        NaN                   NaN   \n",
       "1                                        NaN                   NaN   \n",
       "2   (37.78268536745206, -122.42246374465972)                 100.0   \n",
       "3                                        NaN                   NaN   \n",
       "4  (37.779090726308574, -122.46414497098554)                   5.0   \n",
       "5  (37.784448840613585, -122.41607173623363)                  20.0   \n",
       "6                                        NaN                   NaN   \n",
       "7  (37.723168313513796, -122.44255366318426)                  80.0   \n",
       "8  (37.792486577710505, -122.40565433889059)                 104.0   \n",
       "9   (37.77096442475283, -122.43190432509802)                  28.0   \n",
       "\n",
       "   Current Police Districts Current Supervisor Districts  \\\n",
       "0                       NaN                          NaN   \n",
       "1                       NaN                          NaN   \n",
       "2                       4.0                         11.0   \n",
       "3                       NaN                          NaN   \n",
       "4                       8.0                          4.0   \n",
       "5                       5.0                         10.0   \n",
       "6                       NaN                          NaN   \n",
       "7                       9.0                          1.0   \n",
       "8                       6.0                          3.0   \n",
       "9                       7.0                         11.0   \n",
       "\n",
       "  Analysis Neighborhoods HSOC Zones as of 2018-06-05 OWED Public Spaces  \\\n",
       "0                    NaN                         NaN                NaN   \n",
       "1                    NaN                         NaN                NaN   \n",
       "2                   39.0                         NaN                NaN   \n",
       "3                    NaN                         NaN                NaN   \n",
       "4                   11.0                         NaN                NaN   \n",
       "5                   36.0                         NaN                NaN   \n",
       "6                    NaN                         NaN                NaN   \n",
       "7                   28.0                         NaN                NaN   \n",
       "8                    8.0                         NaN                NaN   \n",
       "9                    3.0                         NaN                NaN   \n",
       "\n",
       "  Central Market/Tenderloin Boundary Polygon - Updated  \\\n",
       "0                                                NaN     \n",
       "1                                                NaN     \n",
       "2                                                NaN     \n",
       "3                                                NaN     \n",
       "4                                                NaN     \n",
       "5                                                1.0     \n",
       "6                                                NaN     \n",
       "7                                                NaN     \n",
       "8                                                NaN     \n",
       "9                                                NaN     \n",
       "\n",
       "   Parks Alliance CPSI (27+TL sites)  \n",
       "0                                NaN  \n",
       "1                                NaN  \n",
       "2                                NaN  \n",
       "3                                NaN  \n",
       "4                                NaN  \n",
       "5                                NaN  \n",
       "6                                NaN  \n",
       "7                                NaN  \n",
       "8                                NaN  \n",
       "9                                NaN  \n",
       "\n",
       "[10 rows x 34 columns]"
      ]
     },
     "execution_count": 2,
     "metadata": {},
     "output_type": "execute_result"
    }
   ],
   "source": [
    "d=pd.read_csv(\"project_2.csv\")\n",
    "dh=d.head(10)\n",
    "dh"
   ]
  },
  {
   "cell_type": "markdown",
   "metadata": {},
   "source": [
    "## 2.1.2 Output 2"
   ]
  },
  {
   "cell_type": "code",
   "execution_count": 3,
   "metadata": {
    "scrolled": false
   },
   "outputs": [
    {
     "data": {
      "text/html": [
       "<div>\n",
       "<style scoped>\n",
       "    .dataframe tbody tr th:only-of-type {\n",
       "        vertical-align: middle;\n",
       "    }\n",
       "\n",
       "    .dataframe tbody tr th {\n",
       "        vertical-align: top;\n",
       "    }\n",
       "\n",
       "    .dataframe thead th {\n",
       "        text-align: right;\n",
       "    }\n",
       "</style>\n",
       "<table border=\"1\" class=\"dataframe\">\n",
       "  <thead>\n",
       "    <tr style=\"text-align: right;\">\n",
       "      <th></th>\n",
       "      <th>Incident Datetime</th>\n",
       "      <th>Incident Date</th>\n",
       "      <th>Incident Time</th>\n",
       "      <th>Incident Year</th>\n",
       "      <th>Incident Day of Week</th>\n",
       "      <th>Report Datetime</th>\n",
       "      <th>Row ID</th>\n",
       "      <th>Incident ID</th>\n",
       "      <th>Incident Number</th>\n",
       "      <th>CAD Number</th>\n",
       "      <th>...</th>\n",
       "      <th>Longitude</th>\n",
       "      <th>point</th>\n",
       "      <th>SF Find Neighborhoods</th>\n",
       "      <th>Current Police Districts</th>\n",
       "      <th>Current Supervisor Districts</th>\n",
       "      <th>Analysis Neighborhoods</th>\n",
       "      <th>HSOC Zones as of 2018-06-05</th>\n",
       "      <th>OWED Public Spaces</th>\n",
       "      <th>Central Market/Tenderloin Boundary Polygon - Updated</th>\n",
       "      <th>Parks Alliance CPSI (27+TL sites)</th>\n",
       "    </tr>\n",
       "  </thead>\n",
       "  <tbody>\n",
       "    <tr>\n",
       "      <td>223948</td>\n",
       "      <td>2019/04/06 02:31:00 PM</td>\n",
       "      <td>2019/04/06</td>\n",
       "      <td>14:31</td>\n",
       "      <td>2019</td>\n",
       "      <td>Saturday</td>\n",
       "      <td>2019/04/06 02:32:00 PM</td>\n",
       "      <td>78758465015</td>\n",
       "      <td>787584</td>\n",
       "      <td>190243845</td>\n",
       "      <td>190962137.0</td>\n",
       "      <td>...</td>\n",
       "      <td>-122.418288</td>\n",
       "      <td>(37.750639648457, -122.418287870888)</td>\n",
       "      <td>53.0</td>\n",
       "      <td>3.0</td>\n",
       "      <td>2.0</td>\n",
       "      <td>20.0</td>\n",
       "      <td>3.0</td>\n",
       "      <td>NaN</td>\n",
       "      <td>NaN</td>\n",
       "      <td>NaN</td>\n",
       "    </tr>\n",
       "    <tr>\n",
       "      <td>223949</td>\n",
       "      <td>2019/03/17 02:45:00 PM</td>\n",
       "      <td>2019/03/17</td>\n",
       "      <td>14:45</td>\n",
       "      <td>2019</td>\n",
       "      <td>Sunday</td>\n",
       "      <td>2019/03/17 06:30:00 PM</td>\n",
       "      <td>78065706241</td>\n",
       "      <td>780657</td>\n",
       "      <td>190192327</td>\n",
       "      <td>190763102.0</td>\n",
       "      <td>...</td>\n",
       "      <td>-122.404865</td>\n",
       "      <td>(37.78400661242, -122.404864795177)</td>\n",
       "      <td>32.0</td>\n",
       "      <td>1.0</td>\n",
       "      <td>10.0</td>\n",
       "      <td>34.0</td>\n",
       "      <td>NaN</td>\n",
       "      <td>NaN</td>\n",
       "      <td>NaN</td>\n",
       "      <td>NaN</td>\n",
       "    </tr>\n",
       "    <tr>\n",
       "      <td>223950</td>\n",
       "      <td>2019/02/09 12:55:00 PM</td>\n",
       "      <td>2019/02/09</td>\n",
       "      <td>12:55</td>\n",
       "      <td>2019</td>\n",
       "      <td>Saturday</td>\n",
       "      <td>2019/02/09 01:15:00 PM</td>\n",
       "      <td>76829275025</td>\n",
       "      <td>768292</td>\n",
       "      <td>190078012</td>\n",
       "      <td>190401468.0</td>\n",
       "      <td>...</td>\n",
       "      <td>-122.493168</td>\n",
       "      <td>(37.777774002129, -122.493167785376)</td>\n",
       "      <td>8.0</td>\n",
       "      <td>8.0</td>\n",
       "      <td>4.0</td>\n",
       "      <td>29.0</td>\n",
       "      <td>NaN</td>\n",
       "      <td>NaN</td>\n",
       "      <td>NaN</td>\n",
       "      <td>NaN</td>\n",
       "    </tr>\n",
       "    <tr>\n",
       "      <td>223951</td>\n",
       "      <td>2019/03/06 02:55:00 PM</td>\n",
       "      <td>2019/03/06</td>\n",
       "      <td>14:55</td>\n",
       "      <td>2019</td>\n",
       "      <td>Wednesday</td>\n",
       "      <td>2019/03/06 03:28:00 PM</td>\n",
       "      <td>77693315161</td>\n",
       "      <td>776933</td>\n",
       "      <td>190163754</td>\n",
       "      <td>190652535.0</td>\n",
       "      <td>...</td>\n",
       "      <td>-122.414513</td>\n",
       "      <td>(37.709257756586, -122.414513190988)</td>\n",
       "      <td>75.0</td>\n",
       "      <td>9.0</td>\n",
       "      <td>9.0</td>\n",
       "      <td>40.0</td>\n",
       "      <td>NaN</td>\n",
       "      <td>NaN</td>\n",
       "      <td>NaN</td>\n",
       "      <td>NaN</td>\n",
       "    </tr>\n",
       "    <tr>\n",
       "      <td>223952</td>\n",
       "      <td>2019/01/08 07:00:00 PM</td>\n",
       "      <td>2019/01/08</td>\n",
       "      <td>19:00</td>\n",
       "      <td>2019</td>\n",
       "      <td>Tuesday</td>\n",
       "      <td>2019/02/09 08:33:00 AM</td>\n",
       "      <td>76822406244</td>\n",
       "      <td>768224</td>\n",
       "      <td>190099159</td>\n",
       "      <td>190400733.0</td>\n",
       "      <td>...</td>\n",
       "      <td>-122.423049</td>\n",
       "      <td>(37.793935004155, -122.423048805298)</td>\n",
       "      <td>102.0</td>\n",
       "      <td>4.0</td>\n",
       "      <td>3.0</td>\n",
       "      <td>32.0</td>\n",
       "      <td>NaN</td>\n",
       "      <td>NaN</td>\n",
       "      <td>NaN</td>\n",
       "      <td>NaN</td>\n",
       "    </tr>\n",
       "    <tr>\n",
       "      <td>223953</td>\n",
       "      <td>2019/03/25 12:40:00 AM</td>\n",
       "      <td>2019/03/25</td>\n",
       "      <td>00:40</td>\n",
       "      <td>2019</td>\n",
       "      <td>Monday</td>\n",
       "      <td>2019/03/25 12:57:00 AM</td>\n",
       "      <td>78314626080</td>\n",
       "      <td>783146</td>\n",
       "      <td>190210769</td>\n",
       "      <td>190840092.0</td>\n",
       "      <td>...</td>\n",
       "      <td>-122.432535</td>\n",
       "      <td>(37.735853646855, -122.432535429576)</td>\n",
       "      <td>96.0</td>\n",
       "      <td>9.0</td>\n",
       "      <td>5.0</td>\n",
       "      <td>10.0</td>\n",
       "      <td>NaN</td>\n",
       "      <td>NaN</td>\n",
       "      <td>NaN</td>\n",
       "      <td>NaN</td>\n",
       "    </tr>\n",
       "    <tr>\n",
       "      <td>223954</td>\n",
       "      <td>2019/01/27 07:00:00 PM</td>\n",
       "      <td>2019/01/27</td>\n",
       "      <td>19:00</td>\n",
       "      <td>2019</td>\n",
       "      <td>Sunday</td>\n",
       "      <td>2019/01/28 10:24:00 AM</td>\n",
       "      <td>76410360110</td>\n",
       "      <td>764103</td>\n",
       "      <td>190069049</td>\n",
       "      <td>190281219.0</td>\n",
       "      <td>...</td>\n",
       "      <td>-122.422464</td>\n",
       "      <td>(37.782685367452, -122.42246374466)</td>\n",
       "      <td>100.0</td>\n",
       "      <td>4.0</td>\n",
       "      <td>11.0</td>\n",
       "      <td>39.0</td>\n",
       "      <td>NaN</td>\n",
       "      <td>NaN</td>\n",
       "      <td>NaN</td>\n",
       "      <td>NaN</td>\n",
       "    </tr>\n",
       "    <tr>\n",
       "      <td>223955</td>\n",
       "      <td>2019/03/13 08:50:00 PM</td>\n",
       "      <td>2019/03/13</td>\n",
       "      <td>20:50</td>\n",
       "      <td>2019</td>\n",
       "      <td>Wednesday</td>\n",
       "      <td>2019/03/14 01:01:00 AM</td>\n",
       "      <td>77948605013</td>\n",
       "      <td>779486</td>\n",
       "      <td>190183116</td>\n",
       "      <td>190730117.0</td>\n",
       "      <td>...</td>\n",
       "      <td>-122.414617</td>\n",
       "      <td>(37.785582473554, -122.414617208829)</td>\n",
       "      <td>20.0</td>\n",
       "      <td>5.0</td>\n",
       "      <td>10.0</td>\n",
       "      <td>36.0</td>\n",
       "      <td>NaN</td>\n",
       "      <td>NaN</td>\n",
       "      <td>1.0</td>\n",
       "      <td>NaN</td>\n",
       "    </tr>\n",
       "    <tr>\n",
       "      <td>223956</td>\n",
       "      <td>2019/03/26 01:44:00 PM</td>\n",
       "      <td>2019/03/26</td>\n",
       "      <td>13:44</td>\n",
       "      <td>2019</td>\n",
       "      <td>Tuesday</td>\n",
       "      <td>2019/03/26 01:46:00 PM</td>\n",
       "      <td>78377964085</td>\n",
       "      <td>783779</td>\n",
       "      <td>190214614</td>\n",
       "      <td>190852143.0</td>\n",
       "      <td>...</td>\n",
       "      <td>-122.443312</td>\n",
       "      <td>(37.770469536912, -122.443311689347)</td>\n",
       "      <td>112.0</td>\n",
       "      <td>7.0</td>\n",
       "      <td>5.0</td>\n",
       "      <td>3.0</td>\n",
       "      <td>NaN</td>\n",
       "      <td>NaN</td>\n",
       "      <td>NaN</td>\n",
       "      <td>NaN</td>\n",
       "    </tr>\n",
       "    <tr>\n",
       "      <td>223957</td>\n",
       "      <td>2019/02/05 07:50:00 PM</td>\n",
       "      <td>2019/02/05</td>\n",
       "      <td>19:50</td>\n",
       "      <td>2019</td>\n",
       "      <td>Tuesday</td>\n",
       "      <td>2019/02/05 08:37:00 PM</td>\n",
       "      <td>76700706362</td>\n",
       "      <td>767007</td>\n",
       "      <td>190090878</td>\n",
       "      <td>190363805.0</td>\n",
       "      <td>...</td>\n",
       "      <td>-122.408036</td>\n",
       "      <td>(37.786409612811, -122.408036237445)</td>\n",
       "      <td>19.0</td>\n",
       "      <td>6.0</td>\n",
       "      <td>3.0</td>\n",
       "      <td>36.0</td>\n",
       "      <td>NaN</td>\n",
       "      <td>NaN</td>\n",
       "      <td>1.0</td>\n",
       "      <td>NaN</td>\n",
       "    </tr>\n",
       "  </tbody>\n",
       "</table>\n",
       "<p>10 rows × 34 columns</p>\n",
       "</div>"
      ],
      "text/plain": [
       "             Incident Datetime Incident Date Incident Time  Incident Year  \\\n",
       "223948  2019/04/06 02:31:00 PM    2019/04/06         14:31           2019   \n",
       "223949  2019/03/17 02:45:00 PM    2019/03/17         14:45           2019   \n",
       "223950  2019/02/09 12:55:00 PM    2019/02/09         12:55           2019   \n",
       "223951  2019/03/06 02:55:00 PM    2019/03/06         14:55           2019   \n",
       "223952  2019/01/08 07:00:00 PM    2019/01/08         19:00           2019   \n",
       "223953  2019/03/25 12:40:00 AM    2019/03/25         00:40           2019   \n",
       "223954  2019/01/27 07:00:00 PM    2019/01/27         19:00           2019   \n",
       "223955  2019/03/13 08:50:00 PM    2019/03/13         20:50           2019   \n",
       "223956  2019/03/26 01:44:00 PM    2019/03/26         13:44           2019   \n",
       "223957  2019/02/05 07:50:00 PM    2019/02/05         19:50           2019   \n",
       "\n",
       "       Incident Day of Week         Report Datetime       Row ID  Incident ID  \\\n",
       "223948             Saturday  2019/04/06 02:32:00 PM  78758465015       787584   \n",
       "223949               Sunday  2019/03/17 06:30:00 PM  78065706241       780657   \n",
       "223950             Saturday  2019/02/09 01:15:00 PM  76829275025       768292   \n",
       "223951            Wednesday  2019/03/06 03:28:00 PM  77693315161       776933   \n",
       "223952              Tuesday  2019/02/09 08:33:00 AM  76822406244       768224   \n",
       "223953               Monday  2019/03/25 12:57:00 AM  78314626080       783146   \n",
       "223954               Sunday  2019/01/28 10:24:00 AM  76410360110       764103   \n",
       "223955            Wednesday  2019/03/14 01:01:00 AM  77948605013       779486   \n",
       "223956              Tuesday  2019/03/26 01:46:00 PM  78377964085       783779   \n",
       "223957              Tuesday  2019/02/05 08:37:00 PM  76700706362       767007   \n",
       "\n",
       "        Incident Number   CAD Number  ...   Longitude  \\\n",
       "223948        190243845  190962137.0  ... -122.418288   \n",
       "223949        190192327  190763102.0  ... -122.404865   \n",
       "223950        190078012  190401468.0  ... -122.493168   \n",
       "223951        190163754  190652535.0  ... -122.414513   \n",
       "223952        190099159  190400733.0  ... -122.423049   \n",
       "223953        190210769  190840092.0  ... -122.432535   \n",
       "223954        190069049  190281219.0  ... -122.422464   \n",
       "223955        190183116  190730117.0  ... -122.414617   \n",
       "223956        190214614  190852143.0  ... -122.443312   \n",
       "223957        190090878  190363805.0  ... -122.408036   \n",
       "\n",
       "                                       point SF Find Neighborhoods  \\\n",
       "223948  (37.750639648457, -122.418287870888)                  53.0   \n",
       "223949   (37.78400661242, -122.404864795177)                  32.0   \n",
       "223950  (37.777774002129, -122.493167785376)                   8.0   \n",
       "223951  (37.709257756586, -122.414513190988)                  75.0   \n",
       "223952  (37.793935004155, -122.423048805298)                 102.0   \n",
       "223953  (37.735853646855, -122.432535429576)                  96.0   \n",
       "223954   (37.782685367452, -122.42246374466)                 100.0   \n",
       "223955  (37.785582473554, -122.414617208829)                  20.0   \n",
       "223956  (37.770469536912, -122.443311689347)                 112.0   \n",
       "223957  (37.786409612811, -122.408036237445)                  19.0   \n",
       "\n",
       "        Current Police Districts Current Supervisor Districts  \\\n",
       "223948                       3.0                          2.0   \n",
       "223949                       1.0                         10.0   \n",
       "223950                       8.0                          4.0   \n",
       "223951                       9.0                          9.0   \n",
       "223952                       4.0                          3.0   \n",
       "223953                       9.0                          5.0   \n",
       "223954                       4.0                         11.0   \n",
       "223955                       5.0                         10.0   \n",
       "223956                       7.0                          5.0   \n",
       "223957                       6.0                          3.0   \n",
       "\n",
       "       Analysis Neighborhoods HSOC Zones as of 2018-06-05 OWED Public Spaces  \\\n",
       "223948                   20.0                         3.0                NaN   \n",
       "223949                   34.0                         NaN                NaN   \n",
       "223950                   29.0                         NaN                NaN   \n",
       "223951                   40.0                         NaN                NaN   \n",
       "223952                   32.0                         NaN                NaN   \n",
       "223953                   10.0                         NaN                NaN   \n",
       "223954                   39.0                         NaN                NaN   \n",
       "223955                   36.0                         NaN                NaN   \n",
       "223956                    3.0                         NaN                NaN   \n",
       "223957                   36.0                         NaN                NaN   \n",
       "\n",
       "       Central Market/Tenderloin Boundary Polygon - Updated  \\\n",
       "223948                                                NaN     \n",
       "223949                                                NaN     \n",
       "223950                                                NaN     \n",
       "223951                                                NaN     \n",
       "223952                                                NaN     \n",
       "223953                                                NaN     \n",
       "223954                                                NaN     \n",
       "223955                                                1.0     \n",
       "223956                                                NaN     \n",
       "223957                                                1.0     \n",
       "\n",
       "        Parks Alliance CPSI (27+TL sites)  \n",
       "223948                                NaN  \n",
       "223949                                NaN  \n",
       "223950                                NaN  \n",
       "223951                                NaN  \n",
       "223952                                NaN  \n",
       "223953                                NaN  \n",
       "223954                                NaN  \n",
       "223955                                NaN  \n",
       "223956                                NaN  \n",
       "223957                                NaN  \n",
       "\n",
       "[10 rows x 34 columns]"
      ]
     },
     "execution_count": 3,
     "metadata": {},
     "output_type": "execute_result"
    }
   ],
   "source": [
    "dt=d.tail(10)\n",
    "dt"
   ]
  },
  {
   "cell_type": "markdown",
   "metadata": {},
   "source": [
    "## 2.1.3 Explanation"
   ]
  },
  {
   "cell_type": "markdown",
   "metadata": {},
   "source": [
    "<ul><li><p>The above outputs display the 10 <b>Top</b> and <b>Bottom</b> Rows of the CSV File named <b>San Francisco.csv</b>, after reading it.</p></li>\n",
    "    <p><li>Output 1 - <b>Top Rows</b>.</li>\n",
    "    <p><li>Output 2 - <b>Bottom Rows</b>.</li>\n",
    "</ul>"
   ]
  },
  {
   "cell_type": "markdown",
   "metadata": {},
   "source": [
    "# 2.2 fillna() Function"
   ]
  },
  {
   "cell_type": "code",
   "execution_count": 4,
   "metadata": {},
   "outputs": [
    {
     "data": {
      "text/html": [
       "<div>\n",
       "<style scoped>\n",
       "    .dataframe tbody tr th:only-of-type {\n",
       "        vertical-align: middle;\n",
       "    }\n",
       "\n",
       "    .dataframe tbody tr th {\n",
       "        vertical-align: top;\n",
       "    }\n",
       "\n",
       "    .dataframe thead th {\n",
       "        text-align: right;\n",
       "    }\n",
       "</style>\n",
       "<table border=\"1\" class=\"dataframe\">\n",
       "  <thead>\n",
       "    <tr style=\"text-align: right;\">\n",
       "      <th></th>\n",
       "      <th>Original Latitude</th>\n",
       "      <th>FillNa Latitude</th>\n",
       "      <th>Original Longitude</th>\n",
       "      <th>FillNa Longitude</th>\n",
       "    </tr>\n",
       "  </thead>\n",
       "  <tbody>\n",
       "    <tr>\n",
       "      <td>0</td>\n",
       "      <td>NaN</td>\n",
       "      <td>37.563321</td>\n",
       "      <td>NaN</td>\n",
       "      <td>-122.426733</td>\n",
       "    </tr>\n",
       "    <tr>\n",
       "      <td>1</td>\n",
       "      <td>NaN</td>\n",
       "      <td>37.563321</td>\n",
       "      <td>NaN</td>\n",
       "      <td>-122.426733</td>\n",
       "    </tr>\n",
       "    <tr>\n",
       "      <td>2</td>\n",
       "      <td>37.782685</td>\n",
       "      <td>37.782685</td>\n",
       "      <td>-122.422464</td>\n",
       "      <td>-122.422464</td>\n",
       "    </tr>\n",
       "    <tr>\n",
       "      <td>3</td>\n",
       "      <td>NaN</td>\n",
       "      <td>37.563321</td>\n",
       "      <td>NaN</td>\n",
       "      <td>-122.426733</td>\n",
       "    </tr>\n",
       "    <tr>\n",
       "      <td>4</td>\n",
       "      <td>37.779091</td>\n",
       "      <td>37.779091</td>\n",
       "      <td>-122.464145</td>\n",
       "      <td>-122.464145</td>\n",
       "    </tr>\n",
       "    <tr>\n",
       "      <td>5</td>\n",
       "      <td>37.784449</td>\n",
       "      <td>37.784449</td>\n",
       "      <td>-122.416072</td>\n",
       "      <td>-122.416072</td>\n",
       "    </tr>\n",
       "    <tr>\n",
       "      <td>6</td>\n",
       "      <td>NaN</td>\n",
       "      <td>37.563321</td>\n",
       "      <td>NaN</td>\n",
       "      <td>-122.426733</td>\n",
       "    </tr>\n",
       "    <tr>\n",
       "      <td>7</td>\n",
       "      <td>37.723168</td>\n",
       "      <td>37.723168</td>\n",
       "      <td>-122.442554</td>\n",
       "      <td>-122.442554</td>\n",
       "    </tr>\n",
       "    <tr>\n",
       "      <td>8</td>\n",
       "      <td>37.792487</td>\n",
       "      <td>37.792487</td>\n",
       "      <td>-122.405654</td>\n",
       "      <td>-122.405654</td>\n",
       "    </tr>\n",
       "    <tr>\n",
       "      <td>9</td>\n",
       "      <td>37.770964</td>\n",
       "      <td>37.770964</td>\n",
       "      <td>-122.431904</td>\n",
       "      <td>-122.431904</td>\n",
       "    </tr>\n",
       "  </tbody>\n",
       "</table>\n",
       "</div>"
      ],
      "text/plain": [
       "   Original Latitude  FillNa Latitude  Original Longitude  FillNa Longitude\n",
       "0                NaN        37.563321                 NaN       -122.426733\n",
       "1                NaN        37.563321                 NaN       -122.426733\n",
       "2          37.782685        37.782685         -122.422464       -122.422464\n",
       "3                NaN        37.563321                 NaN       -122.426733\n",
       "4          37.779091        37.779091         -122.464145       -122.464145\n",
       "5          37.784449        37.784449         -122.416072       -122.416072\n",
       "6                NaN        37.563321                 NaN       -122.426733\n",
       "7          37.723168        37.723168         -122.442554       -122.442554\n",
       "8          37.792487        37.792487         -122.405654       -122.405654\n",
       "9          37.770964        37.770964         -122.431904       -122.431904"
      ]
     },
     "execution_count": 4,
     "metadata": {},
     "output_type": "execute_result"
    }
   ],
   "source": [
    "d2=d['Latitude']\n",
    "dd2=d2.head(10)\n",
    "dd2\n",
    "\n",
    "d3=d['Latitude'].fillna(37.563321)\n",
    "dd3=d3.head(10)\n",
    "dd3\n",
    "\n",
    "d4=d['Longitude']\n",
    "dd4=d4.head(10)\n",
    "dd4\n",
    "\n",
    "d5=d['Longitude'].fillna(-122.426733)\n",
    "dd5=d5.head(10)\n",
    "dd5\n",
    "\n",
    "df=DataFrame({\"Original Latitude\":dd2,\"FillNa Latitude\":dd3,\"Original Longitude\":dd4,\"FillNa Longitude\":dd5})\n",
    "df"
   ]
  },
  {
   "cell_type": "markdown",
   "metadata": {},
   "source": [
    "## 2.2.1 Explanation "
   ]
  },
  {
   "cell_type": "markdown",
   "metadata": {},
   "source": [
    "<ul><li><p>The <b>fillna()</b> function is used to fill the values of <b>NaN</b> Values. The above output shows the use of <b>fillna()</b> function.</p></li></ul>"
   ]
  },
  {
   "cell_type": "markdown",
   "metadata": {},
   "source": [
    "# 2.3 Total Number of Rows and Columns"
   ]
  },
  {
   "cell_type": "code",
   "execution_count": 5,
   "metadata": {
    "scrolled": false
   },
   "outputs": [
    {
     "data": {
      "text/plain": [
       "(223958, 34)"
      ]
     },
     "execution_count": 5,
     "metadata": {},
     "output_type": "execute_result"
    }
   ],
   "source": [
    "d.shape"
   ]
  },
  {
   "cell_type": "code",
   "execution_count": 6,
   "metadata": {},
   "outputs": [
    {
     "data": {
      "text/plain": [
       "223958"
      ]
     },
     "execution_count": 6,
     "metadata": {},
     "output_type": "execute_result"
    }
   ],
   "source": [
    "len(d.index)"
   ]
  },
  {
   "cell_type": "code",
   "execution_count": 7,
   "metadata": {},
   "outputs": [
    {
     "data": {
      "text/plain": [
       "34"
      ]
     },
     "execution_count": 7,
     "metadata": {},
     "output_type": "execute_result"
    }
   ],
   "source": [
    "len(d.columns)"
   ]
  },
  {
   "cell_type": "markdown",
   "metadata": {},
   "source": [
    "## 2.3.1 Explanation"
   ]
  },
  {
   "cell_type": "markdown",
   "metadata": {},
   "source": [
    "<ul><p><li>The above outputs shows the Total Number of <b>Rows</b> and <b>Columns</b>, using the <b>shape</b> and <b>len()</b> function.</li></p>\n",
    "    <li><p>Total Number of Rows - <b>223958</b></p></li>\n",
    "    <li><p>Total Number of Columns - <b>34</b></p></li>\n",
    "</ul>"
   ]
  },
  {
   "cell_type": "markdown",
   "metadata": {},
   "source": [
    "# 2.4 dropna() Function"
   ]
  },
  {
   "cell_type": "code",
   "execution_count": 8,
   "metadata": {
    "scrolled": true
   },
   "outputs": [
    {
     "data": {
      "text/html": [
       "<div>\n",
       "<style scoped>\n",
       "    .dataframe tbody tr th:only-of-type {\n",
       "        vertical-align: middle;\n",
       "    }\n",
       "\n",
       "    .dataframe tbody tr th {\n",
       "        vertical-align: top;\n",
       "    }\n",
       "\n",
       "    .dataframe thead th {\n",
       "        text-align: right;\n",
       "    }\n",
       "</style>\n",
       "<table border=\"1\" class=\"dataframe\">\n",
       "  <thead>\n",
       "    <tr style=\"text-align: right;\">\n",
       "      <th></th>\n",
       "      <th>Original Latitude</th>\n",
       "      <th>FillNa Latitude</th>\n",
       "      <th>Original Longitude</th>\n",
       "      <th>FillNa Longitude</th>\n",
       "    </tr>\n",
       "  </thead>\n",
       "  <tbody>\n",
       "    <tr>\n",
       "      <td>2</td>\n",
       "      <td>37.782685</td>\n",
       "      <td>37.782685</td>\n",
       "      <td>-122.422464</td>\n",
       "      <td>-122.422464</td>\n",
       "    </tr>\n",
       "    <tr>\n",
       "      <td>4</td>\n",
       "      <td>37.779091</td>\n",
       "      <td>37.779091</td>\n",
       "      <td>-122.464145</td>\n",
       "      <td>-122.464145</td>\n",
       "    </tr>\n",
       "    <tr>\n",
       "      <td>5</td>\n",
       "      <td>37.784449</td>\n",
       "      <td>37.784449</td>\n",
       "      <td>-122.416072</td>\n",
       "      <td>-122.416072</td>\n",
       "    </tr>\n",
       "    <tr>\n",
       "      <td>7</td>\n",
       "      <td>37.723168</td>\n",
       "      <td>37.723168</td>\n",
       "      <td>-122.442554</td>\n",
       "      <td>-122.442554</td>\n",
       "    </tr>\n",
       "    <tr>\n",
       "      <td>8</td>\n",
       "      <td>37.792487</td>\n",
       "      <td>37.792487</td>\n",
       "      <td>-122.405654</td>\n",
       "      <td>-122.405654</td>\n",
       "    </tr>\n",
       "    <tr>\n",
       "      <td>9</td>\n",
       "      <td>37.770964</td>\n",
       "      <td>37.770964</td>\n",
       "      <td>-122.431904</td>\n",
       "      <td>-122.431904</td>\n",
       "    </tr>\n",
       "  </tbody>\n",
       "</table>\n",
       "</div>"
      ],
      "text/plain": [
       "   Original Latitude  FillNa Latitude  Original Longitude  FillNa Longitude\n",
       "2          37.782685        37.782685         -122.422464       -122.422464\n",
       "4          37.779091        37.779091         -122.464145       -122.464145\n",
       "5          37.784449        37.784449         -122.416072       -122.416072\n",
       "7          37.723168        37.723168         -122.442554       -122.442554\n",
       "8          37.792487        37.792487         -122.405654       -122.405654\n",
       "9          37.770964        37.770964         -122.431904       -122.431904"
      ]
     },
     "execution_count": 8,
     "metadata": {},
     "output_type": "execute_result"
    }
   ],
   "source": [
    "df2=DataFrame({\"Original Latitude\":dd2,\"FillNa Latitude\":dd3,\"Original Longitude\":dd4,\"FillNa Longitude\":dd5}).dropna()\n",
    "df2"
   ]
  },
  {
   "cell_type": "markdown",
   "metadata": {},
   "source": [
    "## 2.4.1 Explanation"
   ]
  },
  {
   "cell_type": "markdown",
   "metadata": {},
   "source": [
    "<ul><li><p>The <b>dropna()</b> function is used to remove the <b>NaN</b> Values from Rows. The above output shows the use of <b>dropna()</b> function.</p></li></ul>"
   ]
  },
  {
   "cell_type": "markdown",
   "metadata": {},
   "source": [
    "# 2.5 describe() Function"
   ]
  },
  {
   "cell_type": "code",
   "execution_count": 9,
   "metadata": {
    "scrolled": true
   },
   "outputs": [
    {
     "data": {
      "text/html": [
       "<div>\n",
       "<style scoped>\n",
       "    .dataframe tbody tr th:only-of-type {\n",
       "        vertical-align: middle;\n",
       "    }\n",
       "\n",
       "    .dataframe tbody tr th {\n",
       "        vertical-align: top;\n",
       "    }\n",
       "\n",
       "    .dataframe thead th {\n",
       "        text-align: right;\n",
       "    }\n",
       "</style>\n",
       "<table border=\"1\" class=\"dataframe\">\n",
       "  <thead>\n",
       "    <tr style=\"text-align: right;\">\n",
       "      <th></th>\n",
       "      <th>Incident Year</th>\n",
       "      <th>Row ID</th>\n",
       "      <th>Incident ID</th>\n",
       "      <th>Incident Number</th>\n",
       "      <th>CAD Number</th>\n",
       "      <th>Incident Code</th>\n",
       "      <th>CNN</th>\n",
       "      <th>Supervisor District</th>\n",
       "      <th>Latitude</th>\n",
       "      <th>Longitude</th>\n",
       "      <th>SF Find Neighborhoods</th>\n",
       "      <th>Current Police Districts</th>\n",
       "      <th>Current Supervisor Districts</th>\n",
       "      <th>Analysis Neighborhoods</th>\n",
       "      <th>HSOC Zones as of 2018-06-05</th>\n",
       "      <th>OWED Public Spaces</th>\n",
       "      <th>Central Market/Tenderloin Boundary Polygon - Updated</th>\n",
       "      <th>Parks Alliance CPSI (27+TL sites)</th>\n",
       "    </tr>\n",
       "  </thead>\n",
       "  <tbody>\n",
       "    <tr>\n",
       "      <td>count</td>\n",
       "      <td>223958.000000</td>\n",
       "      <td>2.239580e+05</td>\n",
       "      <td>223958.000000</td>\n",
       "      <td>2.239580e+05</td>\n",
       "      <td>1.729940e+05</td>\n",
       "      <td>223958.000000</td>\n",
       "      <td>2.109300e+05</td>\n",
       "      <td>210930.000000</td>\n",
       "      <td>210930.000000</td>\n",
       "      <td>210930.000000</td>\n",
       "      <td>206478.000000</td>\n",
       "      <td>210587.000000</td>\n",
       "      <td>210896.000000</td>\n",
       "      <td>210840.000000</td>\n",
       "      <td>50478.000000</td>\n",
       "      <td>11391.000000</td>\n",
       "      <td>30161.0</td>\n",
       "      <td>2797.000000</td>\n",
       "    </tr>\n",
       "    <tr>\n",
       "      <td>mean</td>\n",
       "      <td>2018.309804</td>\n",
       "      <td>7.194300e+10</td>\n",
       "      <td>719429.711982</td>\n",
       "      <td>1.846084e+08</td>\n",
       "      <td>1.848843e+08</td>\n",
       "      <td>25546.650774</td>\n",
       "      <td>2.532762e+07</td>\n",
       "      <td>5.961736</td>\n",
       "      <td>37.769763</td>\n",
       "      <td>-122.423156</td>\n",
       "      <td>52.552514</td>\n",
       "      <td>4.867827</td>\n",
       "      <td>6.646598</td>\n",
       "      <td>21.010842</td>\n",
       "      <td>2.358513</td>\n",
       "      <td>35.441489</td>\n",
       "      <td>1.0</td>\n",
       "      <td>24.488023</td>\n",
       "    </tr>\n",
       "    <tr>\n",
       "      <td>std</td>\n",
       "      <td>0.462414</td>\n",
       "      <td>5.693458e+09</td>\n",
       "      <td>56934.576140</td>\n",
       "      <td>6.115305e+06</td>\n",
       "      <td>1.087643e+07</td>\n",
       "      <td>25998.485391</td>\n",
       "      <td>3.088000e+06</td>\n",
       "      <td>2.762939</td>\n",
       "      <td>0.023910</td>\n",
       "      <td>0.025763</td>\n",
       "      <td>32.418098</td>\n",
       "      <td>2.715032</td>\n",
       "      <td>3.367490</td>\n",
       "      <td>12.572043</td>\n",
       "      <td>1.371017</td>\n",
       "      <td>12.633153</td>\n",
       "      <td>0.0</td>\n",
       "      <td>5.626324</td>\n",
       "    </tr>\n",
       "    <tr>\n",
       "      <td>min</td>\n",
       "      <td>2018.000000</td>\n",
       "      <td>6.186871e+10</td>\n",
       "      <td>618687.000000</td>\n",
       "      <td>1.131000e+06</td>\n",
       "      <td>1.000000e+00</td>\n",
       "      <td>1000.000000</td>\n",
       "      <td>2.001300e+07</td>\n",
       "      <td>1.000000</td>\n",
       "      <td>37.707988</td>\n",
       "      <td>-122.511295</td>\n",
       "      <td>1.000000</td>\n",
       "      <td>1.000000</td>\n",
       "      <td>1.000000</td>\n",
       "      <td>1.000000</td>\n",
       "      <td>1.000000</td>\n",
       "      <td>3.000000</td>\n",
       "      <td>1.0</td>\n",
       "      <td>1.000000</td>\n",
       "    </tr>\n",
       "    <tr>\n",
       "      <td>25%</td>\n",
       "      <td>2018.000000</td>\n",
       "      <td>6.704433e+10</td>\n",
       "      <td>670443.250000</td>\n",
       "      <td>1.804538e+08</td>\n",
       "      <td>1.813817e+08</td>\n",
       "      <td>6244.000000</td>\n",
       "      <td>2.399100e+07</td>\n",
       "      <td>3.000000</td>\n",
       "      <td>37.757020</td>\n",
       "      <td>-122.433179</td>\n",
       "      <td>23.000000</td>\n",
       "      <td>3.000000</td>\n",
       "      <td>3.000000</td>\n",
       "      <td>8.000000</td>\n",
       "      <td>1.000000</td>\n",
       "      <td>35.000000</td>\n",
       "      <td>1.0</td>\n",
       "      <td>23.000000</td>\n",
       "    </tr>\n",
       "    <tr>\n",
       "      <td>50%</td>\n",
       "      <td>2018.000000</td>\n",
       "      <td>7.194592e+10</td>\n",
       "      <td>719458.500000</td>\n",
       "      <td>1.809077e+08</td>\n",
       "      <td>1.826909e+08</td>\n",
       "      <td>9016.000000</td>\n",
       "      <td>2.490400e+07</td>\n",
       "      <td>6.000000</td>\n",
       "      <td>37.776231</td>\n",
       "      <td>-122.417146</td>\n",
       "      <td>44.000000</td>\n",
       "      <td>5.000000</td>\n",
       "      <td>7.000000</td>\n",
       "      <td>20.000000</td>\n",
       "      <td>3.000000</td>\n",
       "      <td>35.000000</td>\n",
       "      <td>1.0</td>\n",
       "      <td>24.000000</td>\n",
       "    </tr>\n",
       "    <tr>\n",
       "      <td>75%</td>\n",
       "      <td>2019.000000</td>\n",
       "      <td>7.686758e+10</td>\n",
       "      <td>768675.750000</td>\n",
       "      <td>1.901157e+08</td>\n",
       "      <td>1.904210e+08</td>\n",
       "      <td>62040.000000</td>\n",
       "      <td>2.635300e+07</td>\n",
       "      <td>8.000000</td>\n",
       "      <td>37.785893</td>\n",
       "      <td>-122.407001</td>\n",
       "      <td>85.000000</td>\n",
       "      <td>6.000000</td>\n",
       "      <td>10.000000</td>\n",
       "      <td>34.000000</td>\n",
       "      <td>3.000000</td>\n",
       "      <td>35.000000</td>\n",
       "      <td>1.0</td>\n",
       "      <td>24.000000</td>\n",
       "    </tr>\n",
       "    <tr>\n",
       "      <td>max</td>\n",
       "      <td>2019.000000</td>\n",
       "      <td>8.178801e+10</td>\n",
       "      <td>817880.000000</td>\n",
       "      <td>9.811720e+08</td>\n",
       "      <td>1.000000e+09</td>\n",
       "      <td>75030.000000</td>\n",
       "      <td>5.400400e+07</td>\n",
       "      <td>11.000000</td>\n",
       "      <td>37.829991</td>\n",
       "      <td>-122.363743</td>\n",
       "      <td>117.000000</td>\n",
       "      <td>10.000000</td>\n",
       "      <td>11.000000</td>\n",
       "      <td>41.000000</td>\n",
       "      <td>5.000000</td>\n",
       "      <td>80.000000</td>\n",
       "      <td>1.0</td>\n",
       "      <td>31.000000</td>\n",
       "    </tr>\n",
       "  </tbody>\n",
       "</table>\n",
       "</div>"
      ],
      "text/plain": [
       "       Incident Year        Row ID    Incident ID  Incident Number  \\\n",
       "count  223958.000000  2.239580e+05  223958.000000     2.239580e+05   \n",
       "mean     2018.309804  7.194300e+10  719429.711982     1.846084e+08   \n",
       "std         0.462414  5.693458e+09   56934.576140     6.115305e+06   \n",
       "min      2018.000000  6.186871e+10  618687.000000     1.131000e+06   \n",
       "25%      2018.000000  6.704433e+10  670443.250000     1.804538e+08   \n",
       "50%      2018.000000  7.194592e+10  719458.500000     1.809077e+08   \n",
       "75%      2019.000000  7.686758e+10  768675.750000     1.901157e+08   \n",
       "max      2019.000000  8.178801e+10  817880.000000     9.811720e+08   \n",
       "\n",
       "         CAD Number  Incident Code           CNN  Supervisor District  \\\n",
       "count  1.729940e+05  223958.000000  2.109300e+05        210930.000000   \n",
       "mean   1.848843e+08   25546.650774  2.532762e+07             5.961736   \n",
       "std    1.087643e+07   25998.485391  3.088000e+06             2.762939   \n",
       "min    1.000000e+00    1000.000000  2.001300e+07             1.000000   \n",
       "25%    1.813817e+08    6244.000000  2.399100e+07             3.000000   \n",
       "50%    1.826909e+08    9016.000000  2.490400e+07             6.000000   \n",
       "75%    1.904210e+08   62040.000000  2.635300e+07             8.000000   \n",
       "max    1.000000e+09   75030.000000  5.400400e+07            11.000000   \n",
       "\n",
       "            Latitude      Longitude  SF Find Neighborhoods  \\\n",
       "count  210930.000000  210930.000000          206478.000000   \n",
       "mean       37.769763    -122.423156              52.552514   \n",
       "std         0.023910       0.025763              32.418098   \n",
       "min        37.707988    -122.511295               1.000000   \n",
       "25%        37.757020    -122.433179              23.000000   \n",
       "50%        37.776231    -122.417146              44.000000   \n",
       "75%        37.785893    -122.407001              85.000000   \n",
       "max        37.829991    -122.363743             117.000000   \n",
       "\n",
       "       Current Police Districts  Current Supervisor Districts  \\\n",
       "count             210587.000000                 210896.000000   \n",
       "mean                   4.867827                      6.646598   \n",
       "std                    2.715032                      3.367490   \n",
       "min                    1.000000                      1.000000   \n",
       "25%                    3.000000                      3.000000   \n",
       "50%                    5.000000                      7.000000   \n",
       "75%                    6.000000                     10.000000   \n",
       "max                   10.000000                     11.000000   \n",
       "\n",
       "       Analysis Neighborhoods  HSOC Zones as of 2018-06-05  \\\n",
       "count           210840.000000                 50478.000000   \n",
       "mean                21.010842                     2.358513   \n",
       "std                 12.572043                     1.371017   \n",
       "min                  1.000000                     1.000000   \n",
       "25%                  8.000000                     1.000000   \n",
       "50%                 20.000000                     3.000000   \n",
       "75%                 34.000000                     3.000000   \n",
       "max                 41.000000                     5.000000   \n",
       "\n",
       "       OWED Public Spaces  \\\n",
       "count        11391.000000   \n",
       "mean            35.441489   \n",
       "std             12.633153   \n",
       "min              3.000000   \n",
       "25%             35.000000   \n",
       "50%             35.000000   \n",
       "75%             35.000000   \n",
       "max             80.000000   \n",
       "\n",
       "       Central Market/Tenderloin Boundary Polygon - Updated  \\\n",
       "count                                            30161.0      \n",
       "mean                                                 1.0      \n",
       "std                                                  0.0      \n",
       "min                                                  1.0      \n",
       "25%                                                  1.0      \n",
       "50%                                                  1.0      \n",
       "75%                                                  1.0      \n",
       "max                                                  1.0      \n",
       "\n",
       "       Parks Alliance CPSI (27+TL sites)  \n",
       "count                        2797.000000  \n",
       "mean                           24.488023  \n",
       "std                             5.626324  \n",
       "min                             1.000000  \n",
       "25%                            23.000000  \n",
       "50%                            24.000000  \n",
       "75%                            24.000000  \n",
       "max                            31.000000  "
      ]
     },
     "execution_count": 9,
     "metadata": {},
     "output_type": "execute_result"
    }
   ],
   "source": [
    "d.describe()"
   ]
  },
  {
   "cell_type": "markdown",
   "metadata": {},
   "source": [
    "## 2.5.1 Explanation"
   ]
  },
  {
   "cell_type": "markdown",
   "metadata": {},
   "source": [
    "<ul><li><p>The <b>describe()</b> function is used to display the summaries like <b>Count</b>, <b>Mean</b>, <b>First Quarter</b>, <b>Second Quarter</b>, <b>Third Quarter</b> and <b>Min - Max</b>.</p></li></ul>"
   ]
  },
  {
   "cell_type": "markdown",
   "metadata": {},
   "source": [
    "<center><b><font face=\"Century\" color=purple size=6>3. Data Cleaning</font></b></center>"
   ]
  },
  {
   "cell_type": "markdown",
   "metadata": {},
   "source": [
    "# 3.1 Irrelevant Rows and Columns"
   ]
  },
  {
   "cell_type": "code",
   "execution_count": 10,
   "metadata": {
    "scrolled": false
   },
   "outputs": [
    {
     "data": {
      "text/html": [
       "<div>\n",
       "<style scoped>\n",
       "    .dataframe tbody tr th:only-of-type {\n",
       "        vertical-align: middle;\n",
       "    }\n",
       "\n",
       "    .dataframe tbody tr th {\n",
       "        vertical-align: top;\n",
       "    }\n",
       "\n",
       "    .dataframe thead th {\n",
       "        text-align: right;\n",
       "    }\n",
       "</style>\n",
       "<table border=\"1\" class=\"dataframe\">\n",
       "  <thead>\n",
       "    <tr style=\"text-align: right;\">\n",
       "      <th></th>\n",
       "      <th>Incident Datetime</th>\n",
       "      <th>Row ID</th>\n",
       "      <th>Incident ID</th>\n",
       "      <th>Incident Number</th>\n",
       "      <th>CAD Number</th>\n",
       "      <th>Report Type Description</th>\n",
       "      <th>Incident Code</th>\n",
       "      <th>Incident Category</th>\n",
       "      <th>Incident Description</th>\n",
       "      <th>Resolution</th>\n",
       "      <th>Intersection</th>\n",
       "      <th>Police District</th>\n",
       "      <th>Analysis Neighborhood</th>\n",
       "      <th>Supervisor_District</th>\n",
       "      <th>Original_Latitude</th>\n",
       "      <th>Original_Longitude</th>\n",
       "      <th>SF_Find_Neighborhoods</th>\n",
       "      <th>Current_Police_Districts</th>\n",
       "      <th>Current_Supervisor_Districts</th>\n",
       "      <th>Analysis_Neighborhoods</th>\n",
       "    </tr>\n",
       "  </thead>\n",
       "  <tbody>\n",
       "    <tr>\n",
       "      <td>2</td>\n",
       "      <td>2019/06/05 02:00:00 PM</td>\n",
       "      <td>81006072000</td>\n",
       "      <td>810060</td>\n",
       "      <td>190416337</td>\n",
       "      <td>191610728.0</td>\n",
       "      <td>Initial</td>\n",
       "      <td>72000</td>\n",
       "      <td>Non-Criminal</td>\n",
       "      <td>Found  Property</td>\n",
       "      <td>Open or Active</td>\n",
       "      <td>FRANKLIN ST \\ EDDY ST</td>\n",
       "      <td>Northern</td>\n",
       "      <td>Western Addition</td>\n",
       "      <td>5.0</td>\n",
       "      <td>37.782685</td>\n",
       "      <td>-122.422464</td>\n",
       "      <td>100.0</td>\n",
       "      <td>4.0</td>\n",
       "      <td>11.0</td>\n",
       "      <td>39.0</td>\n",
       "    </tr>\n",
       "    <tr>\n",
       "      <td>4</td>\n",
       "      <td>2019/06/10 11:00:00 AM</td>\n",
       "      <td>81012372000</td>\n",
       "      <td>810123</td>\n",
       "      <td>190393440</td>\n",
       "      <td>191521989.0</td>\n",
       "      <td>Initial Supplement</td>\n",
       "      <td>72000</td>\n",
       "      <td>Non-Criminal</td>\n",
       "      <td>Found  Property</td>\n",
       "      <td>Open or Active</td>\n",
       "      <td>ANZA ST \\ 06TH AVE</td>\n",
       "      <td>Richmond</td>\n",
       "      <td>Inner Richmond</td>\n",
       "      <td>1.0</td>\n",
       "      <td>37.779091</td>\n",
       "      <td>-122.464145</td>\n",
       "      <td>5.0</td>\n",
       "      <td>8.0</td>\n",
       "      <td>4.0</td>\n",
       "      <td>11.0</td>\n",
       "    </tr>\n",
       "    <tr>\n",
       "      <td>5</td>\n",
       "      <td>2019/06/10 06:57:00 PM</td>\n",
       "      <td>81021904134</td>\n",
       "      <td>810219</td>\n",
       "      <td>190417987</td>\n",
       "      <td>191613730.0</td>\n",
       "      <td>Initial</td>\n",
       "      <td>4134</td>\n",
       "      <td>Assault</td>\n",
       "      <td>Battery</td>\n",
       "      <td>Cite or Arrest Adult</td>\n",
       "      <td>ELLIS ST \\ HYDE ST</td>\n",
       "      <td>Tenderloin</td>\n",
       "      <td>Tenderloin</td>\n",
       "      <td>6.0</td>\n",
       "      <td>37.784449</td>\n",
       "      <td>-122.416072</td>\n",
       "      <td>20.0</td>\n",
       "      <td>5.0</td>\n",
       "      <td>10.0</td>\n",
       "      <td>36.0</td>\n",
       "    </tr>\n",
       "    <tr>\n",
       "      <td>7</td>\n",
       "      <td>2019/06/10 01:30:00 AM</td>\n",
       "      <td>80997904134</td>\n",
       "      <td>809979</td>\n",
       "      <td>190416070</td>\n",
       "      <td>191610294.0</td>\n",
       "      <td>Initial</td>\n",
       "      <td>4134</td>\n",
       "      <td>Assault</td>\n",
       "      <td>Battery</td>\n",
       "      <td>Open or Active</td>\n",
       "      <td>ONONDAGA AVE \\ OCEAN AVE</td>\n",
       "      <td>Ingleside</td>\n",
       "      <td>Outer Mission</td>\n",
       "      <td>11.0</td>\n",
       "      <td>37.723168</td>\n",
       "      <td>-122.442554</td>\n",
       "      <td>80.0</td>\n",
       "      <td>9.0</td>\n",
       "      <td>1.0</td>\n",
       "      <td>28.0</td>\n",
       "    </tr>\n",
       "    <tr>\n",
       "      <td>8</td>\n",
       "      <td>2019/06/09 11:08:00 PM</td>\n",
       "      <td>81026328150</td>\n",
       "      <td>810263</td>\n",
       "      <td>190418264</td>\n",
       "      <td>191612805.0</td>\n",
       "      <td>Initial</td>\n",
       "      <td>28150</td>\n",
       "      <td>Malicious Mischief</td>\n",
       "      <td>Malicious Mischief, Vandalism to Property</td>\n",
       "      <td>Open or Active</td>\n",
       "      <td>QUINCY ST \\ CALIFORNIA ST</td>\n",
       "      <td>Central</td>\n",
       "      <td>Financial District/South Beach</td>\n",
       "      <td>3.0</td>\n",
       "      <td>37.792487</td>\n",
       "      <td>-122.405654</td>\n",
       "      <td>104.0</td>\n",
       "      <td>6.0</td>\n",
       "      <td>3.0</td>\n",
       "      <td>8.0</td>\n",
       "    </tr>\n",
       "  </tbody>\n",
       "</table>\n",
       "</div>"
      ],
      "text/plain": [
       "        Incident Datetime       Row ID  Incident ID  Incident Number  \\\n",
       "2  2019/06/05 02:00:00 PM  81006072000       810060        190416337   \n",
       "4  2019/06/10 11:00:00 AM  81012372000       810123        190393440   \n",
       "5  2019/06/10 06:57:00 PM  81021904134       810219        190417987   \n",
       "7  2019/06/10 01:30:00 AM  80997904134       809979        190416070   \n",
       "8  2019/06/09 11:08:00 PM  81026328150       810263        190418264   \n",
       "\n",
       "    CAD Number Report Type Description  Incident Code   Incident Category  \\\n",
       "2  191610728.0                 Initial          72000        Non-Criminal   \n",
       "4  191521989.0      Initial Supplement          72000        Non-Criminal   \n",
       "5  191613730.0                 Initial           4134             Assault   \n",
       "7  191610294.0                 Initial           4134             Assault   \n",
       "8  191612805.0                 Initial          28150  Malicious Mischief   \n",
       "\n",
       "                        Incident Description            Resolution  \\\n",
       "2                            Found  Property        Open or Active   \n",
       "4                            Found  Property        Open or Active   \n",
       "5                                    Battery  Cite or Arrest Adult   \n",
       "7                                    Battery        Open or Active   \n",
       "8  Malicious Mischief, Vandalism to Property        Open or Active   \n",
       "\n",
       "                Intersection Police District           Analysis Neighborhood  \\\n",
       "2      FRANKLIN ST \\ EDDY ST        Northern                Western Addition   \n",
       "4         ANZA ST \\ 06TH AVE        Richmond                  Inner Richmond   \n",
       "5         ELLIS ST \\ HYDE ST      Tenderloin                      Tenderloin   \n",
       "7   ONONDAGA AVE \\ OCEAN AVE       Ingleside                   Outer Mission   \n",
       "8  QUINCY ST \\ CALIFORNIA ST         Central  Financial District/South Beach   \n",
       "\n",
       "   Supervisor_District  Original_Latitude  Original_Longitude  \\\n",
       "2                  5.0          37.782685         -122.422464   \n",
       "4                  1.0          37.779091         -122.464145   \n",
       "5                  6.0          37.784449         -122.416072   \n",
       "7                 11.0          37.723168         -122.442554   \n",
       "8                  3.0          37.792487         -122.405654   \n",
       "\n",
       "   SF_Find_Neighborhoods  Current_Police_Districts  \\\n",
       "2                  100.0                       4.0   \n",
       "4                    5.0                       8.0   \n",
       "5                   20.0                       5.0   \n",
       "7                   80.0                       9.0   \n",
       "8                  104.0                       6.0   \n",
       "\n",
       "   Current_Supervisor_Districts  Analysis_Neighborhoods  \n",
       "2                          11.0                    39.0  \n",
       "4                           4.0                    11.0  \n",
       "5                          10.0                    36.0  \n",
       "7                           1.0                    28.0  \n",
       "8                           3.0                     8.0  "
      ]
     },
     "execution_count": 10,
     "metadata": {},
     "output_type": "execute_result"
    }
   ],
   "source": [
    "ddrop=d.drop([\"Incident Date\", \"Incident Time\",\"Incident Year\",\"CNN\",\"Report Type Code\",\"point\",\"Incident Day of Week\",\"Report Datetime\",\"Incident Subcategory\",\"Filed Online\",\"HSOC Zones as of 2018-06-05\",\"OWED Public Spaces\",\"Central Market/Tenderloin Boundary Polygon - Updated\",\"Parks Alliance CPSI (27+TL sites)\"\n",
    "],axis=1)\n",
    "ddrop.rename(\n",
    "    columns={\n",
    "        \"Latitude\": \"Original_Latitude\",\n",
    "        \"Longitude\": \"Original_Longitude\",\n",
    "        \"Supervisor District\":\"Supervisor_District\",\n",
    "        \"SF Find Neighborhoods\":\"SF_Find_Neighborhoods\",\n",
    "        \"Current Police Districts\":\"Current_Police_Districts\",\n",
    "        \"Current Supervisor Districts\":\"Current_Supervisor_Districts\",\n",
    "        \"Analysis Neighborhoods\":\"Analysis_Neighborhoods\"\n",
    "    },\n",
    "    inplace=True\n",
    ")\n",
    "ddr=ddrop.head(10)\n",
    "ddr2=ddr.dropna()\n",
    "ddr2"
   ]
  },
  {
   "cell_type": "markdown",
   "metadata": {},
   "source": [
    "## 3.1.1 Explanation"
   ]
  },
  {
   "cell_type": "markdown",
   "metadata": {},
   "source": [
    "<ul><li><p>The above output shows the <b>Clean DataSet</b>, after removing the <b>NaN</b> Values and <b>Irrelevant Columns</b>, using the <b>dropna()</b> and <b>drop()</b>. And the <b>rename()</b> function is used for renaming the column name. The Multiple Columns are renamed to <b>New Name</b>.</p></li></ul>\n",
    "<i>Note:- The <b>dropna()</b> and <b>drop()</b> functions are used for removing the <b>Rows</b> and <b>Columns</b>.</i>"
   ]
  },
  {
   "cell_type": "markdown",
   "metadata": {},
   "source": [
    "<center><b><font face=\"Century\" color=purple size=6>4. Adaptation</font></b></center>"
   ]
  },
  {
   "cell_type": "markdown",
   "metadata": {},
   "source": [
    "# 4.1 Additional Columns - FillNa Latitude, FillNa Longitude, Crime Codes\n",
    "## 4.1.1 Output 1"
   ]
  },
  {
   "cell_type": "code",
   "execution_count": 11,
   "metadata": {
    "scrolled": false
   },
   "outputs": [
    {
     "data": {
      "text/html": [
       "<div>\n",
       "<style scoped>\n",
       "    .dataframe tbody tr th:only-of-type {\n",
       "        vertical-align: middle;\n",
       "    }\n",
       "\n",
       "    .dataframe tbody tr th {\n",
       "        vertical-align: top;\n",
       "    }\n",
       "\n",
       "    .dataframe thead th {\n",
       "        text-align: right;\n",
       "    }\n",
       "</style>\n",
       "<table border=\"1\" class=\"dataframe\">\n",
       "  <thead>\n",
       "    <tr style=\"text-align: right;\">\n",
       "      <th></th>\n",
       "      <th>Incident Datetime</th>\n",
       "      <th>Row ID</th>\n",
       "      <th>Incident ID</th>\n",
       "      <th>Incident Number</th>\n",
       "      <th>CAD Number</th>\n",
       "      <th>Report Type Description</th>\n",
       "      <th>Incident Code</th>\n",
       "      <th>Incident Category</th>\n",
       "      <th>Incident Description</th>\n",
       "      <th>Resolution</th>\n",
       "      <th>...</th>\n",
       "      <th>Supervisor_District</th>\n",
       "      <th>Original_Latitude</th>\n",
       "      <th>Original_Longitude</th>\n",
       "      <th>SF_Find_Neighborhoods</th>\n",
       "      <th>Current_Police_Districts</th>\n",
       "      <th>Current_Supervisor_Districts</th>\n",
       "      <th>Analysis_Neighborhoods</th>\n",
       "      <th>FillNa_Latitude</th>\n",
       "      <th>FillNa_Longitude</th>\n",
       "      <th>Crime_Codes</th>\n",
       "    </tr>\n",
       "  </thead>\n",
       "  <tbody>\n",
       "    <tr>\n",
       "      <td>0</td>\n",
       "      <td>2018/07/18 01:30:00 PM</td>\n",
       "      <td>69250964070</td>\n",
       "      <td>692509</td>\n",
       "      <td>180536729</td>\n",
       "      <td>182001522.0</td>\n",
       "      <td>Initial</td>\n",
       "      <td>64070</td>\n",
       "      <td>Suspicious Occ</td>\n",
       "      <td>Suspicious Occurrence</td>\n",
       "      <td>Unfounded</td>\n",
       "      <td>...</td>\n",
       "      <td>NaN</td>\n",
       "      <td>NaN</td>\n",
       "      <td>NaN</td>\n",
       "      <td>NaN</td>\n",
       "      <td>NaN</td>\n",
       "      <td>NaN</td>\n",
       "      <td>NaN</td>\n",
       "      <td>37.563321</td>\n",
       "      <td>-122.426733</td>\n",
       "      <td>28</td>\n",
       "    </tr>\n",
       "    <tr>\n",
       "      <td>1</td>\n",
       "      <td>2019/04/08 05:25:00 AM</td>\n",
       "      <td>79165671000</td>\n",
       "      <td>791656</td>\n",
       "      <td>196076240</td>\n",
       "      <td>NaN</td>\n",
       "      <td>Coplogic Initial</td>\n",
       "      <td>71000</td>\n",
       "      <td>Lost Property</td>\n",
       "      <td>Lost Property</td>\n",
       "      <td>Open or Active</td>\n",
       "      <td>...</td>\n",
       "      <td>NaN</td>\n",
       "      <td>NaN</td>\n",
       "      <td>NaN</td>\n",
       "      <td>NaN</td>\n",
       "      <td>NaN</td>\n",
       "      <td>NaN</td>\n",
       "      <td>NaN</td>\n",
       "      <td>37.563321</td>\n",
       "      <td>-122.426733</td>\n",
       "      <td>24</td>\n",
       "    </tr>\n",
       "    <tr>\n",
       "      <td>2</td>\n",
       "      <td>2019/06/05 02:00:00 PM</td>\n",
       "      <td>81006072000</td>\n",
       "      <td>810060</td>\n",
       "      <td>190416337</td>\n",
       "      <td>191610728.0</td>\n",
       "      <td>Initial</td>\n",
       "      <td>72000</td>\n",
       "      <td>Non-Criminal</td>\n",
       "      <td>Found  Property</td>\n",
       "      <td>Open or Active</td>\n",
       "      <td>...</td>\n",
       "      <td>5.0</td>\n",
       "      <td>37.782685</td>\n",
       "      <td>-122.422464</td>\n",
       "      <td>100.0</td>\n",
       "      <td>4.0</td>\n",
       "      <td>11.0</td>\n",
       "      <td>39.0</td>\n",
       "      <td>37.782685</td>\n",
       "      <td>-122.422464</td>\n",
       "      <td>27</td>\n",
       "    </tr>\n",
       "    <tr>\n",
       "      <td>3</td>\n",
       "      <td>2019/04/16 08:20:00 PM</td>\n",
       "      <td>79171306244</td>\n",
       "      <td>791713</td>\n",
       "      <td>196076024</td>\n",
       "      <td>NaN</td>\n",
       "      <td>Coplogic Initial</td>\n",
       "      <td>6244</td>\n",
       "      <td>Larceny Theft</td>\n",
       "      <td>Theft, From Locked Vehicle, &gt;$950</td>\n",
       "      <td>Open or Active</td>\n",
       "      <td>...</td>\n",
       "      <td>NaN</td>\n",
       "      <td>NaN</td>\n",
       "      <td>NaN</td>\n",
       "      <td>NaN</td>\n",
       "      <td>NaN</td>\n",
       "      <td>NaN</td>\n",
       "      <td>NaN</td>\n",
       "      <td>37.563321</td>\n",
       "      <td>-122.426733</td>\n",
       "      <td>10</td>\n",
       "    </tr>\n",
       "    <tr>\n",
       "      <td>4</td>\n",
       "      <td>2019/06/10 11:00:00 AM</td>\n",
       "      <td>81012372000</td>\n",
       "      <td>810123</td>\n",
       "      <td>190393440</td>\n",
       "      <td>191521989.0</td>\n",
       "      <td>Initial Supplement</td>\n",
       "      <td>72000</td>\n",
       "      <td>Non-Criminal</td>\n",
       "      <td>Found  Property</td>\n",
       "      <td>Open or Active</td>\n",
       "      <td>...</td>\n",
       "      <td>1.0</td>\n",
       "      <td>37.779091</td>\n",
       "      <td>-122.464145</td>\n",
       "      <td>5.0</td>\n",
       "      <td>8.0</td>\n",
       "      <td>4.0</td>\n",
       "      <td>11.0</td>\n",
       "      <td>37.779091</td>\n",
       "      <td>-122.464145</td>\n",
       "      <td>12</td>\n",
       "    </tr>\n",
       "    <tr>\n",
       "      <td>5</td>\n",
       "      <td>2019/06/10 06:57:00 PM</td>\n",
       "      <td>81021904134</td>\n",
       "      <td>810219</td>\n",
       "      <td>190417987</td>\n",
       "      <td>191613730.0</td>\n",
       "      <td>Initial</td>\n",
       "      <td>4134</td>\n",
       "      <td>Assault</td>\n",
       "      <td>Battery</td>\n",
       "      <td>Cite or Arrest Adult</td>\n",
       "      <td>...</td>\n",
       "      <td>6.0</td>\n",
       "      <td>37.784449</td>\n",
       "      <td>-122.416072</td>\n",
       "      <td>20.0</td>\n",
       "      <td>5.0</td>\n",
       "      <td>10.0</td>\n",
       "      <td>36.0</td>\n",
       "      <td>37.784449</td>\n",
       "      <td>-122.416072</td>\n",
       "      <td>5</td>\n",
       "    </tr>\n",
       "    <tr>\n",
       "      <td>6</td>\n",
       "      <td>2019/04/18 01:42:00 PM</td>\n",
       "      <td>79186007045</td>\n",
       "      <td>791860</td>\n",
       "      <td>190256832</td>\n",
       "      <td>NaN</td>\n",
       "      <td>Vehicle Supplement</td>\n",
       "      <td>7045</td>\n",
       "      <td>Recovered Vehicle</td>\n",
       "      <td>Vehicle, Recovered, Truck</td>\n",
       "      <td>Open or Active</td>\n",
       "      <td>...</td>\n",
       "      <td>NaN</td>\n",
       "      <td>NaN</td>\n",
       "      <td>NaN</td>\n",
       "      <td>NaN</td>\n",
       "      <td>NaN</td>\n",
       "      <td>NaN</td>\n",
       "      <td>NaN</td>\n",
       "      <td>37.563321</td>\n",
       "      <td>-122.426733</td>\n",
       "      <td>34</td>\n",
       "    </tr>\n",
       "    <tr>\n",
       "      <td>7</td>\n",
       "      <td>2019/06/10 01:30:00 AM</td>\n",
       "      <td>80997904134</td>\n",
       "      <td>809979</td>\n",
       "      <td>190416070</td>\n",
       "      <td>191610294.0</td>\n",
       "      <td>Initial</td>\n",
       "      <td>4134</td>\n",
       "      <td>Assault</td>\n",
       "      <td>Battery</td>\n",
       "      <td>Open or Active</td>\n",
       "      <td>...</td>\n",
       "      <td>11.0</td>\n",
       "      <td>37.723168</td>\n",
       "      <td>-122.442554</td>\n",
       "      <td>80.0</td>\n",
       "      <td>9.0</td>\n",
       "      <td>1.0</td>\n",
       "      <td>28.0</td>\n",
       "      <td>37.723168</td>\n",
       "      <td>-122.442554</td>\n",
       "      <td>31</td>\n",
       "    </tr>\n",
       "    <tr>\n",
       "      <td>8</td>\n",
       "      <td>2019/06/09 11:08:00 PM</td>\n",
       "      <td>81026328150</td>\n",
       "      <td>810263</td>\n",
       "      <td>190418264</td>\n",
       "      <td>191612805.0</td>\n",
       "      <td>Initial</td>\n",
       "      <td>28150</td>\n",
       "      <td>Malicious Mischief</td>\n",
       "      <td>Malicious Mischief, Vandalism to Property</td>\n",
       "      <td>Open or Active</td>\n",
       "      <td>...</td>\n",
       "      <td>3.0</td>\n",
       "      <td>37.792487</td>\n",
       "      <td>-122.405654</td>\n",
       "      <td>104.0</td>\n",
       "      <td>6.0</td>\n",
       "      <td>3.0</td>\n",
       "      <td>8.0</td>\n",
       "      <td>37.792487</td>\n",
       "      <td>-122.405654</td>\n",
       "      <td>11</td>\n",
       "    </tr>\n",
       "    <tr>\n",
       "      <td>9</td>\n",
       "      <td>2019/06/03 01:15:00 PM</td>\n",
       "      <td>81004006374</td>\n",
       "      <td>810040</td>\n",
       "      <td>190398365</td>\n",
       "      <td>NaN</td>\n",
       "      <td>Coplogic Supplement</td>\n",
       "      <td>6374</td>\n",
       "      <td>Larceny Theft</td>\n",
       "      <td>Theft, Other Property, &gt;$950</td>\n",
       "      <td>Open or Active</td>\n",
       "      <td>...</td>\n",
       "      <td>5.0</td>\n",
       "      <td>37.770964</td>\n",
       "      <td>-122.431904</td>\n",
       "      <td>28.0</td>\n",
       "      <td>7.0</td>\n",
       "      <td>11.0</td>\n",
       "      <td>3.0</td>\n",
       "      <td>37.770964</td>\n",
       "      <td>-122.431904</td>\n",
       "      <td>5</td>\n",
       "    </tr>\n",
       "  </tbody>\n",
       "</table>\n",
       "<p>10 rows × 23 columns</p>\n",
       "</div>"
      ],
      "text/plain": [
       "        Incident Datetime       Row ID  Incident ID  Incident Number  \\\n",
       "0  2018/07/18 01:30:00 PM  69250964070       692509        180536729   \n",
       "1  2019/04/08 05:25:00 AM  79165671000       791656        196076240   \n",
       "2  2019/06/05 02:00:00 PM  81006072000       810060        190416337   \n",
       "3  2019/04/16 08:20:00 PM  79171306244       791713        196076024   \n",
       "4  2019/06/10 11:00:00 AM  81012372000       810123        190393440   \n",
       "5  2019/06/10 06:57:00 PM  81021904134       810219        190417987   \n",
       "6  2019/04/18 01:42:00 PM  79186007045       791860        190256832   \n",
       "7  2019/06/10 01:30:00 AM  80997904134       809979        190416070   \n",
       "8  2019/06/09 11:08:00 PM  81026328150       810263        190418264   \n",
       "9  2019/06/03 01:15:00 PM  81004006374       810040        190398365   \n",
       "\n",
       "    CAD Number Report Type Description  Incident Code   Incident Category  \\\n",
       "0  182001522.0                 Initial          64070      Suspicious Occ   \n",
       "1          NaN        Coplogic Initial          71000       Lost Property   \n",
       "2  191610728.0                 Initial          72000        Non-Criminal   \n",
       "3          NaN        Coplogic Initial           6244       Larceny Theft   \n",
       "4  191521989.0      Initial Supplement          72000        Non-Criminal   \n",
       "5  191613730.0                 Initial           4134             Assault   \n",
       "6          NaN      Vehicle Supplement           7045   Recovered Vehicle   \n",
       "7  191610294.0                 Initial           4134             Assault   \n",
       "8  191612805.0                 Initial          28150  Malicious Mischief   \n",
       "9          NaN     Coplogic Supplement           6374       Larceny Theft   \n",
       "\n",
       "                        Incident Description            Resolution  ...  \\\n",
       "0                      Suspicious Occurrence             Unfounded  ...   \n",
       "1                              Lost Property        Open or Active  ...   \n",
       "2                            Found  Property        Open or Active  ...   \n",
       "3          Theft, From Locked Vehicle, >$950        Open or Active  ...   \n",
       "4                            Found  Property        Open or Active  ...   \n",
       "5                                    Battery  Cite or Arrest Adult  ...   \n",
       "6                  Vehicle, Recovered, Truck        Open or Active  ...   \n",
       "7                                    Battery        Open or Active  ...   \n",
       "8  Malicious Mischief, Vandalism to Property        Open or Active  ...   \n",
       "9               Theft, Other Property, >$950        Open or Active  ...   \n",
       "\n",
       "  Supervisor_District Original_Latitude Original_Longitude  \\\n",
       "0                 NaN               NaN                NaN   \n",
       "1                 NaN               NaN                NaN   \n",
       "2                 5.0         37.782685        -122.422464   \n",
       "3                 NaN               NaN                NaN   \n",
       "4                 1.0         37.779091        -122.464145   \n",
       "5                 6.0         37.784449        -122.416072   \n",
       "6                 NaN               NaN                NaN   \n",
       "7                11.0         37.723168        -122.442554   \n",
       "8                 3.0         37.792487        -122.405654   \n",
       "9                 5.0         37.770964        -122.431904   \n",
       "\n",
       "   SF_Find_Neighborhoods  Current_Police_Districts  \\\n",
       "0                    NaN                       NaN   \n",
       "1                    NaN                       NaN   \n",
       "2                  100.0                       4.0   \n",
       "3                    NaN                       NaN   \n",
       "4                    5.0                       8.0   \n",
       "5                   20.0                       5.0   \n",
       "6                    NaN                       NaN   \n",
       "7                   80.0                       9.0   \n",
       "8                  104.0                       6.0   \n",
       "9                   28.0                       7.0   \n",
       "\n",
       "   Current_Supervisor_Districts  Analysis_Neighborhoods  FillNa_Latitude  \\\n",
       "0                           NaN                     NaN        37.563321   \n",
       "1                           NaN                     NaN        37.563321   \n",
       "2                          11.0                    39.0        37.782685   \n",
       "3                           NaN                     NaN        37.563321   \n",
       "4                           4.0                    11.0        37.779091   \n",
       "5                          10.0                    36.0        37.784449   \n",
       "6                           NaN                     NaN        37.563321   \n",
       "7                           1.0                    28.0        37.723168   \n",
       "8                           3.0                     8.0        37.792487   \n",
       "9                          11.0                     3.0        37.770964   \n",
       "\n",
       "   FillNa_Longitude  Crime_Codes  \n",
       "0       -122.426733           28  \n",
       "1       -122.426733           24  \n",
       "2       -122.422464           27  \n",
       "3       -122.426733           10  \n",
       "4       -122.464145           12  \n",
       "5       -122.416072            5  \n",
       "6       -122.426733           34  \n",
       "7       -122.442554           31  \n",
       "8       -122.405654           11  \n",
       "9       -122.431904            5  \n",
       "\n",
       "[10 rows x 23 columns]"
      ]
     },
     "execution_count": 11,
     "metadata": {},
     "output_type": "execute_result"
    }
   ],
   "source": [
    "ddrop['FillNa_Latitude']=d3\n",
    "ddrop['FillNa_Longitude']=d5\n",
    "cc=[1,2,3,4,5,6,7,8,9,10,11,12,13,14,15,16,17,18,19,20,21,22,23,24,25,26,27,28,29,30,31,32,33,34,35,36,37,38,39,40]\n",
    "ddrop[\"Crime_Codes\"] = np.random.choice(cc, size=len(ddrop))\n",
    "ddr3=ddrop.head(10)\n",
    "ddr4=ddr3.dropna()\n",
    "ddr3"
   ]
  },
  {
   "cell_type": "markdown",
   "metadata": {},
   "source": [
    "## 4.1.1.1 Explanation 1"
   ]
  },
  {
   "cell_type": "markdown",
   "metadata": {},
   "source": [
    "<ul><li><p>The above output data is filled with <b>NaN</b> Values. This output includes the <b>Additional Columns</b> which is <b>FillNa Latitude</b>, <b>FillNa Longitude</b> and <b>Crime Codes</b>, and excludes the <b>Data Cleaning</b>.</p></li></ul>"
   ]
  },
  {
   "cell_type": "markdown",
   "metadata": {},
   "source": [
    "## 4.1.2 Output 2"
   ]
  },
  {
   "cell_type": "code",
   "execution_count": 12,
   "metadata": {
    "scrolled": false
   },
   "outputs": [
    {
     "data": {
      "text/html": [
       "<div>\n",
       "<style scoped>\n",
       "    .dataframe tbody tr th:only-of-type {\n",
       "        vertical-align: middle;\n",
       "    }\n",
       "\n",
       "    .dataframe tbody tr th {\n",
       "        vertical-align: top;\n",
       "    }\n",
       "\n",
       "    .dataframe thead th {\n",
       "        text-align: right;\n",
       "    }\n",
       "</style>\n",
       "<table border=\"1\" class=\"dataframe\">\n",
       "  <thead>\n",
       "    <tr style=\"text-align: right;\">\n",
       "      <th></th>\n",
       "      <th>Incident Datetime</th>\n",
       "      <th>Row ID</th>\n",
       "      <th>Incident ID</th>\n",
       "      <th>Incident Number</th>\n",
       "      <th>CAD Number</th>\n",
       "      <th>Report Type Description</th>\n",
       "      <th>Incident Code</th>\n",
       "      <th>Incident Category</th>\n",
       "      <th>Incident Description</th>\n",
       "      <th>Resolution</th>\n",
       "      <th>...</th>\n",
       "      <th>Supervisor_District</th>\n",
       "      <th>Original_Latitude</th>\n",
       "      <th>Original_Longitude</th>\n",
       "      <th>SF_Find_Neighborhoods</th>\n",
       "      <th>Current_Police_Districts</th>\n",
       "      <th>Current_Supervisor_Districts</th>\n",
       "      <th>Analysis_Neighborhoods</th>\n",
       "      <th>FillNa_Latitude</th>\n",
       "      <th>FillNa_Longitude</th>\n",
       "      <th>Crime_Codes</th>\n",
       "    </tr>\n",
       "  </thead>\n",
       "  <tbody>\n",
       "    <tr>\n",
       "      <td>2</td>\n",
       "      <td>2019/06/05 02:00:00 PM</td>\n",
       "      <td>81006072000</td>\n",
       "      <td>810060</td>\n",
       "      <td>190416337</td>\n",
       "      <td>191610728.0</td>\n",
       "      <td>Initial</td>\n",
       "      <td>72000</td>\n",
       "      <td>Non-Criminal</td>\n",
       "      <td>Found  Property</td>\n",
       "      <td>Open or Active</td>\n",
       "      <td>...</td>\n",
       "      <td>5.0</td>\n",
       "      <td>37.782685</td>\n",
       "      <td>-122.422464</td>\n",
       "      <td>100.0</td>\n",
       "      <td>4.0</td>\n",
       "      <td>11.0</td>\n",
       "      <td>39.0</td>\n",
       "      <td>37.782685</td>\n",
       "      <td>-122.422464</td>\n",
       "      <td>27</td>\n",
       "    </tr>\n",
       "    <tr>\n",
       "      <td>4</td>\n",
       "      <td>2019/06/10 11:00:00 AM</td>\n",
       "      <td>81012372000</td>\n",
       "      <td>810123</td>\n",
       "      <td>190393440</td>\n",
       "      <td>191521989.0</td>\n",
       "      <td>Initial Supplement</td>\n",
       "      <td>72000</td>\n",
       "      <td>Non-Criminal</td>\n",
       "      <td>Found  Property</td>\n",
       "      <td>Open or Active</td>\n",
       "      <td>...</td>\n",
       "      <td>1.0</td>\n",
       "      <td>37.779091</td>\n",
       "      <td>-122.464145</td>\n",
       "      <td>5.0</td>\n",
       "      <td>8.0</td>\n",
       "      <td>4.0</td>\n",
       "      <td>11.0</td>\n",
       "      <td>37.779091</td>\n",
       "      <td>-122.464145</td>\n",
       "      <td>12</td>\n",
       "    </tr>\n",
       "    <tr>\n",
       "      <td>5</td>\n",
       "      <td>2019/06/10 06:57:00 PM</td>\n",
       "      <td>81021904134</td>\n",
       "      <td>810219</td>\n",
       "      <td>190417987</td>\n",
       "      <td>191613730.0</td>\n",
       "      <td>Initial</td>\n",
       "      <td>4134</td>\n",
       "      <td>Assault</td>\n",
       "      <td>Battery</td>\n",
       "      <td>Cite or Arrest Adult</td>\n",
       "      <td>...</td>\n",
       "      <td>6.0</td>\n",
       "      <td>37.784449</td>\n",
       "      <td>-122.416072</td>\n",
       "      <td>20.0</td>\n",
       "      <td>5.0</td>\n",
       "      <td>10.0</td>\n",
       "      <td>36.0</td>\n",
       "      <td>37.784449</td>\n",
       "      <td>-122.416072</td>\n",
       "      <td>5</td>\n",
       "    </tr>\n",
       "    <tr>\n",
       "      <td>7</td>\n",
       "      <td>2019/06/10 01:30:00 AM</td>\n",
       "      <td>80997904134</td>\n",
       "      <td>809979</td>\n",
       "      <td>190416070</td>\n",
       "      <td>191610294.0</td>\n",
       "      <td>Initial</td>\n",
       "      <td>4134</td>\n",
       "      <td>Assault</td>\n",
       "      <td>Battery</td>\n",
       "      <td>Open or Active</td>\n",
       "      <td>...</td>\n",
       "      <td>11.0</td>\n",
       "      <td>37.723168</td>\n",
       "      <td>-122.442554</td>\n",
       "      <td>80.0</td>\n",
       "      <td>9.0</td>\n",
       "      <td>1.0</td>\n",
       "      <td>28.0</td>\n",
       "      <td>37.723168</td>\n",
       "      <td>-122.442554</td>\n",
       "      <td>31</td>\n",
       "    </tr>\n",
       "    <tr>\n",
       "      <td>8</td>\n",
       "      <td>2019/06/09 11:08:00 PM</td>\n",
       "      <td>81026328150</td>\n",
       "      <td>810263</td>\n",
       "      <td>190418264</td>\n",
       "      <td>191612805.0</td>\n",
       "      <td>Initial</td>\n",
       "      <td>28150</td>\n",
       "      <td>Malicious Mischief</td>\n",
       "      <td>Malicious Mischief, Vandalism to Property</td>\n",
       "      <td>Open or Active</td>\n",
       "      <td>...</td>\n",
       "      <td>3.0</td>\n",
       "      <td>37.792487</td>\n",
       "      <td>-122.405654</td>\n",
       "      <td>104.0</td>\n",
       "      <td>6.0</td>\n",
       "      <td>3.0</td>\n",
       "      <td>8.0</td>\n",
       "      <td>37.792487</td>\n",
       "      <td>-122.405654</td>\n",
       "      <td>11</td>\n",
       "    </tr>\n",
       "  </tbody>\n",
       "</table>\n",
       "<p>5 rows × 23 columns</p>\n",
       "</div>"
      ],
      "text/plain": [
       "        Incident Datetime       Row ID  Incident ID  Incident Number  \\\n",
       "2  2019/06/05 02:00:00 PM  81006072000       810060        190416337   \n",
       "4  2019/06/10 11:00:00 AM  81012372000       810123        190393440   \n",
       "5  2019/06/10 06:57:00 PM  81021904134       810219        190417987   \n",
       "7  2019/06/10 01:30:00 AM  80997904134       809979        190416070   \n",
       "8  2019/06/09 11:08:00 PM  81026328150       810263        190418264   \n",
       "\n",
       "    CAD Number Report Type Description  Incident Code   Incident Category  \\\n",
       "2  191610728.0                 Initial          72000        Non-Criminal   \n",
       "4  191521989.0      Initial Supplement          72000        Non-Criminal   \n",
       "5  191613730.0                 Initial           4134             Assault   \n",
       "7  191610294.0                 Initial           4134             Assault   \n",
       "8  191612805.0                 Initial          28150  Malicious Mischief   \n",
       "\n",
       "                        Incident Description            Resolution  ...  \\\n",
       "2                            Found  Property        Open or Active  ...   \n",
       "4                            Found  Property        Open or Active  ...   \n",
       "5                                    Battery  Cite or Arrest Adult  ...   \n",
       "7                                    Battery        Open or Active  ...   \n",
       "8  Malicious Mischief, Vandalism to Property        Open or Active  ...   \n",
       "\n",
       "  Supervisor_District Original_Latitude Original_Longitude  \\\n",
       "2                 5.0         37.782685        -122.422464   \n",
       "4                 1.0         37.779091        -122.464145   \n",
       "5                 6.0         37.784449        -122.416072   \n",
       "7                11.0         37.723168        -122.442554   \n",
       "8                 3.0         37.792487        -122.405654   \n",
       "\n",
       "   SF_Find_Neighborhoods  Current_Police_Districts  \\\n",
       "2                  100.0                       4.0   \n",
       "4                    5.0                       8.0   \n",
       "5                   20.0                       5.0   \n",
       "7                   80.0                       9.0   \n",
       "8                  104.0                       6.0   \n",
       "\n",
       "   Current_Supervisor_Districts  Analysis_Neighborhoods  FillNa_Latitude  \\\n",
       "2                          11.0                    39.0        37.782685   \n",
       "4                           4.0                    11.0        37.779091   \n",
       "5                          10.0                    36.0        37.784449   \n",
       "7                           1.0                    28.0        37.723168   \n",
       "8                           3.0                     8.0        37.792487   \n",
       "\n",
       "   FillNa_Longitude  Crime_Codes  \n",
       "2       -122.422464           27  \n",
       "4       -122.464145           12  \n",
       "5       -122.416072            5  \n",
       "7       -122.442554           31  \n",
       "8       -122.405654           11  \n",
       "\n",
       "[5 rows x 23 columns]"
      ]
     },
     "execution_count": 12,
     "metadata": {},
     "output_type": "execute_result"
    }
   ],
   "source": [
    "ddr4"
   ]
  },
  {
   "cell_type": "markdown",
   "metadata": {},
   "source": [
    "## 4.1.2.1 Explanation 2"
   ]
  },
  {
   "cell_type": "markdown",
   "metadata": {},
   "source": [
    "<ul><li><p>The above output data is  not filled with <b>NaN</b> Values. This output includes the <b>Additional Columns</b> which is <b>FillNa Latitude</b>, <b>FillNa Longitude</b> and <b>Crime Codes</b>, and includes the <b>Data Cleaning</b>.</p></li></ul>\n",
    "<i>Note:- The <b>Output 1</b> and <b>Output 2</b> both the outputs are of <b>Adaptation</b>. The <b>Output 1</b> excludes the <b>Data Cleaning</b> and <b>Output 2</b> includes the <b>Data Cleaning</b>. This outputs are displayed to show the values of <b>FillNa Latitude</b> and <b>FillNa Longitude</b>, after applying the <b>fillna()</b>.</i>"
   ]
  },
  {
   "cell_type": "markdown",
   "metadata": {},
   "source": [
    "<br><b><font face=\"Californian FB\" color=gray size=7>B. Visualization</font></b>"
   ]
  },
  {
   "cell_type": "markdown",
   "metadata": {},
   "source": [
    "<center><b><font face=\"Century\" color=purple size=6>5. Descriptive Static Visualization</font></b></center>"
   ]
  },
  {
   "cell_type": "markdown",
   "metadata": {},
   "source": [
    "# 5.1 Scatter Plot"
   ]
  },
  {
   "cell_type": "code",
   "execution_count": 13,
   "metadata": {
    "scrolled": true
   },
   "outputs": [
    {
     "data": {
      "text/plain": [
       "<matplotlib.axes._subplots.AxesSubplot at 0x1a23840978>"
      ]
     },
     "execution_count": 13,
     "metadata": {},
     "output_type": "execute_result"
    },
    {
     "data": {
      "image/png": "[encoded data removed]",
      "text/plain": [
       "<Figure size 432x288 with 1 Axes>"
      ]
     },
     "metadata": {
      "needs_background": "light"
     },
     "output_type": "display_data"
    }
   ],
   "source": [
    "ddrop.plot.scatter(x='FillNa_Latitude', y='FillNa_Longitude', title='Crime Dataset')"
   ]
  },
  {
   "cell_type": "markdown",
   "metadata": {},
   "source": [
    "## 5.1.1 Explanation"
   ]
  },
  {
   "cell_type": "markdown",
   "metadata": {},
   "source": [
    "<ul><li><p>This <b>Scatter Plot</b> is between <b>FillNa Latitude</b> and <b>FillNa Longitude</b>. The <b>X- Axis</b> and <b>Y-Axis</b> is <b>FillNa Latitude</b> and <b>FillNa Longitude</b>.</p></li></ul>"
   ]
  },
  {
   "cell_type": "markdown",
   "metadata": {},
   "source": [
    "# 5.2 Bar Plot"
   ]
  },
  {
   "cell_type": "code",
   "execution_count": 14,
   "metadata": {
    "scrolled": true
   },
   "outputs": [
    {
     "data": {
      "text/plain": [
       "<matplotlib.axes._subplots.AxesSubplot at 0x1a24e4eb00>"
      ]
     },
     "execution_count": 14,
     "metadata": {},
     "output_type": "execute_result"
    },
    {
     "data": {
      "image/png": "[encoded data removed]",
      "text/plain": [
       "<Figure size 432x288 with 1 Axes>"
      ]
     },
     "metadata": {
      "needs_background": "light"
     },
     "output_type": "display_data"
    }
   ],
   "source": [
    "ddrop['Analysis_Neighborhoods'].value_counts().sort_index().plot.bar()"
   ]
  },
  {
   "cell_type": "markdown",
   "metadata": {},
   "source": [
    "## 5.2.1 Explanation"
   ]
  },
  {
   "cell_type": "markdown",
   "metadata": {},
   "source": [
    "<ul><li><p>This <b>Bar Plot</b> is in <b>Vertical Format</b>, and it is of <b>Analysis Neighborhoods</b>. The Number of Occurences are count by <b>value_counts()</b>, and its sort occurence is from Smallest to Largest, the sorting is done by the <b>sort_index()</b>.</p></li></ul>"
   ]
  },
  {
   "cell_type": "markdown",
   "metadata": {},
   "source": [
    "# 5.3 Histogram"
   ]
  },
  {
   "cell_type": "code",
   "execution_count": 15,
   "metadata": {
    "scrolled": true
   },
   "outputs": [
    {
     "data": {
      "text/plain": [
       "<matplotlib.axes._subplots.AxesSubplot at 0x1a272c6e80>"
      ]
     },
     "execution_count": 15,
     "metadata": {},
     "output_type": "execute_result"
    },
    {
     "data": {
      "image/png": "[encoded data removed]",
      "text/plain": [
       "<Figure size 432x288 with 1 Axes>"
      ]
     },
     "metadata": {
      "needs_background": "light"
     },
     "output_type": "display_data"
    }
   ],
   "source": [
    "sns.distplot(ddrop['Incident Code'], bins=70, kde=True)"
   ]
  },
  {
   "cell_type": "markdown",
   "metadata": {},
   "source": [
    "## 5.3.1 Explanation"
   ]
  },
  {
   "cell_type": "markdown",
   "metadata": {},
   "source": [
    "<ul><li><p>This <b>Histogram</b> is of <b>Incident Code</b>. The Additional Feature of <b>Histogram</b> is <b>KDE</b>.</p></li></ul>\n",
    "<i>Note:- <b>KDE</b> is an acronym of <b>Gaussian Kernel Density Estimate</b>.</i>"
   ]
  },
  {
   "cell_type": "markdown",
   "metadata": {},
   "source": [
    "# 5.4 Box Plot"
   ]
  },
  {
   "cell_type": "code",
   "execution_count": 16,
   "metadata": {
    "scrolled": true
   },
   "outputs": [
    {
     "data": {
      "text/plain": [
       "<matplotlib.axes._subplots.AxesSubplot at 0x1a239a09e8>"
      ]
     },
     "execution_count": 16,
     "metadata": {},
     "output_type": "execute_result"
    },
    {
     "data": {
      "image/png": "[encoded data removed]",
      "text/plain": [
       "<Figure size 432x288 with 1 Axes>"
      ]
     },
     "metadata": {
      "needs_background": "light"
     },
     "output_type": "display_data"
    }
   ],
   "source": [
    "df = ddrop[(ddrop['Current_Supervisor_Districts']>=1) & (ddrop['SF_Find_Neighborhoods']<117)]\n",
    "sns.boxplot('Current_Supervisor_Districts','SF_Find_Neighborhoods', data=df)"
   ]
  },
  {
   "cell_type": "markdown",
   "metadata": {},
   "source": [
    "## 5.4.1 Explanation"
   ]
  },
  {
   "cell_type": "markdown",
   "metadata": {},
   "source": [
    "<ul><li><p>A <b>Box Plot</b> is a graphical method of displaying the <b>five-number summary</b>.This <b>Box Plot</b> is between <b>Current Supervisor Districts</b> and <b>SF Find Neighborhoods</b>.</p></li></ul>\n",
    "<i>Note:- <b>Five Number Summary</b> are: <b>Sample Minimum</b>,<b>Lower Quartile</b>,<b>Median</b>,<b>Upper Quartile</b> and <b>Sample Maximum</b>.</i>"
   ]
  },
  {
   "cell_type": "markdown",
   "metadata": {},
   "source": [
    "# 5.5 Correlation Plot"
   ]
  },
  {
   "cell_type": "markdown",
   "metadata": {},
   "source": [
    "## 5.5.1 Correlation Table"
   ]
  },
  {
   "cell_type": "code",
   "execution_count": 17,
   "metadata": {
    "scrolled": true
   },
   "outputs": [
    {
     "data": {
      "text/html": [
       "<div>\n",
       "<style scoped>\n",
       "    .dataframe tbody tr th:only-of-type {\n",
       "        vertical-align: middle;\n",
       "    }\n",
       "\n",
       "    .dataframe tbody tr th {\n",
       "        vertical-align: top;\n",
       "    }\n",
       "\n",
       "    .dataframe thead th {\n",
       "        text-align: right;\n",
       "    }\n",
       "</style>\n",
       "<table border=\"1\" class=\"dataframe\">\n",
       "  <thead>\n",
       "    <tr style=\"text-align: right;\">\n",
       "      <th></th>\n",
       "      <th>Supervisor_District</th>\n",
       "      <th>SF_Find_Neighborhoods</th>\n",
       "      <th>Current_Police_Districts</th>\n",
       "      <th>Current_Supervisor_Districts</th>\n",
       "      <th>Analysis_Neighborhoods</th>\n",
       "      <th>FillNa_Latitude</th>\n",
       "      <th>FillNa_Longitude</th>\n",
       "    </tr>\n",
       "  </thead>\n",
       "  <tbody>\n",
       "    <tr>\n",
       "      <td>Supervisor_District</td>\n",
       "      <td>1.000000</td>\n",
       "      <td>0.192711</td>\n",
       "      <td>-0.229768</td>\n",
       "      <td>0.036766</td>\n",
       "      <td>-0.149157</td>\n",
       "      <td>-0.758306</td>\n",
       "      <td>0.288147</td>\n",
       "    </tr>\n",
       "    <tr>\n",
       "      <td>SF_Find_Neighborhoods</td>\n",
       "      <td>0.192711</td>\n",
       "      <td>1.000000</td>\n",
       "      <td>0.068957</td>\n",
       "      <td>-0.205550</td>\n",
       "      <td>-0.157272</td>\n",
       "      <td>-0.174880</td>\n",
       "      <td>0.170218</td>\n",
       "    </tr>\n",
       "    <tr>\n",
       "      <td>Current_Police_Districts</td>\n",
       "      <td>-0.229768</td>\n",
       "      <td>0.068957</td>\n",
       "      <td>1.000000</td>\n",
       "      <td>-0.306226</td>\n",
       "      <td>0.111058</td>\n",
       "      <td>-0.225392</td>\n",
       "      <td>-0.689303</td>\n",
       "    </tr>\n",
       "    <tr>\n",
       "      <td>Current_Supervisor_Districts</td>\n",
       "      <td>0.036766</td>\n",
       "      <td>-0.205550</td>\n",
       "      <td>-0.306226</td>\n",
       "      <td>1.000000</td>\n",
       "      <td>0.241620</td>\n",
       "      <td>0.071648</td>\n",
       "      <td>0.110234</td>\n",
       "    </tr>\n",
       "    <tr>\n",
       "      <td>Analysis_Neighborhoods</td>\n",
       "      <td>-0.149157</td>\n",
       "      <td>-0.157272</td>\n",
       "      <td>0.111058</td>\n",
       "      <td>0.241620</td>\n",
       "      <td>1.000000</td>\n",
       "      <td>0.135061</td>\n",
       "      <td>-0.219042</td>\n",
       "    </tr>\n",
       "    <tr>\n",
       "      <td>FillNa_Latitude</td>\n",
       "      <td>-0.758306</td>\n",
       "      <td>-0.174880</td>\n",
       "      <td>-0.225392</td>\n",
       "      <td>0.071648</td>\n",
       "      <td>0.135061</td>\n",
       "      <td>1.000000</td>\n",
       "      <td>0.190302</td>\n",
       "    </tr>\n",
       "    <tr>\n",
       "      <td>FillNa_Longitude</td>\n",
       "      <td>0.288147</td>\n",
       "      <td>0.170218</td>\n",
       "      <td>-0.689303</td>\n",
       "      <td>0.110234</td>\n",
       "      <td>-0.219042</td>\n",
       "      <td>0.190302</td>\n",
       "      <td>1.000000</td>\n",
       "    </tr>\n",
       "  </tbody>\n",
       "</table>\n",
       "</div>"
      ],
      "text/plain": [
       "                              Supervisor_District  SF_Find_Neighborhoods  \\\n",
       "Supervisor_District                      1.000000               0.192711   \n",
       "SF_Find_Neighborhoods                    0.192711               1.000000   \n",
       "Current_Police_Districts                -0.229768               0.068957   \n",
       "Current_Supervisor_Districts             0.036766              -0.205550   \n",
       "Analysis_Neighborhoods                  -0.149157              -0.157272   \n",
       "FillNa_Latitude                         -0.758306              -0.174880   \n",
       "FillNa_Longitude                         0.288147               0.170218   \n",
       "\n",
       "                              Current_Police_Districts  \\\n",
       "Supervisor_District                          -0.229768   \n",
       "SF_Find_Neighborhoods                         0.068957   \n",
       "Current_Police_Districts                      1.000000   \n",
       "Current_Supervisor_Districts                 -0.306226   \n",
       "Analysis_Neighborhoods                        0.111058   \n",
       "FillNa_Latitude                              -0.225392   \n",
       "FillNa_Longitude                             -0.689303   \n",
       "\n",
       "                              Current_Supervisor_Districts  \\\n",
       "Supervisor_District                               0.036766   \n",
       "SF_Find_Neighborhoods                            -0.205550   \n",
       "Current_Police_Districts                         -0.306226   \n",
       "Current_Supervisor_Districts                      1.000000   \n",
       "Analysis_Neighborhoods                            0.241620   \n",
       "FillNa_Latitude                                   0.071648   \n",
       "FillNa_Longitude                                  0.110234   \n",
       "\n",
       "                              Analysis_Neighborhoods  FillNa_Latitude  \\\n",
       "Supervisor_District                        -0.149157        -0.758306   \n",
       "SF_Find_Neighborhoods                      -0.157272        -0.174880   \n",
       "Current_Police_Districts                    0.111058        -0.225392   \n",
       "Current_Supervisor_Districts                0.241620         0.071648   \n",
       "Analysis_Neighborhoods                      1.000000         0.135061   \n",
       "FillNa_Latitude                             0.135061         1.000000   \n",
       "FillNa_Longitude                           -0.219042         0.190302   \n",
       "\n",
       "                              FillNa_Longitude  \n",
       "Supervisor_District                   0.288147  \n",
       "SF_Find_Neighborhoods                 0.170218  \n",
       "Current_Police_Districts             -0.689303  \n",
       "Current_Supervisor_Districts          0.110234  \n",
       "Analysis_Neighborhoods               -0.219042  \n",
       "FillNa_Latitude                       0.190302  \n",
       "FillNa_Longitude                      1.000000  "
      ]
     },
     "execution_count": 17,
     "metadata": {},
     "output_type": "execute_result"
    }
   ],
   "source": [
    "ddr5=ddrop[['Supervisor_District','SF_Find_Neighborhoods','Current_Police_Districts','Current_Supervisor_Districts','Analysis_Neighborhoods','FillNa_Latitude','FillNa_Longitude']].dropna()\n",
    "dcorr=ddr5.corr()\n",
    "dcorr"
   ]
  },
  {
   "cell_type": "markdown",
   "metadata": {},
   "source": [
    "## 5.5.2 Correlation Plot"
   ]
  },
  {
   "cell_type": "code",
   "execution_count": 18,
   "metadata": {},
   "outputs": [
    {
     "data": {
      "text/plain": [
       "<matplotlib.axes._subplots.AxesSubplot at 0x1a23f73cc0>"
      ]
     },
     "execution_count": 18,
     "metadata": {},
     "output_type": "execute_result"
    },
    {
     "data": {
      "image/png": "[encoded data removed]",
      "text/plain": [
       "<Figure size 720x720 with 2 Axes>"
      ]
     },
     "metadata": {
      "needs_background": "light"
     },
     "output_type": "display_data"
    }
   ],
   "source": [
    "mask = np.zeros_like(dcorr, dtype=np.bool)\n",
    "mask[np.triu_indices_from(mask)] = True\n",
    "\n",
    "f, ax = plt.subplots(figsize=(10,10))\n",
    "\n",
    "cmap = sns.diverging_palette(220, 10, as_cmap=True)\n",
    "\n",
    "sns.heatmap(dcorr, mask=mask, cmap=cmap, vmax=.3, center=0,\n",
    "           square=True, linewidths=.5, cbar_kws={\"shrink\": .5})"
   ]
  },
  {
   "cell_type": "markdown",
   "metadata": {},
   "source": [
    "## 5.5.3 Explanation"
   ]
  },
  {
   "cell_type": "markdown",
   "metadata": {},
   "source": [
    "<ul><li><p>The above outputs shows the <b>Correlation Table</b> in <b>6.1</b> and <b>Correlation Plot</b> in <b>6.2</b>. The Correlations is done by the <b>corr()</b> function.</p></li></ul>"
   ]
  },
  {
   "cell_type": "markdown",
   "metadata": {},
   "source": [
    "<br><b><font face=\"Californian FB\" color=gray size=7>C. Cluster Analysis</font></b>"
   ]
  },
  {
   "cell_type": "markdown",
   "metadata": {},
   "source": [
    "<center><b><font face=\"Century\" color=purple size=6>6. Step by Step Hierarchical Clustering</font></b></center>"
   ]
  },
  {
   "cell_type": "markdown",
   "metadata": {},
   "source": [
    "# 6.1 Euclidean Distance"
   ]
  },
  {
   "cell_type": "code",
   "execution_count": 19,
   "metadata": {},
   "outputs": [
    {
     "data": {
      "text/html": [
       "<div>\n",
       "<style scoped>\n",
       "    .dataframe tbody tr th:only-of-type {\n",
       "        vertical-align: middle;\n",
       "    }\n",
       "\n",
       "    .dataframe tbody tr th {\n",
       "        vertical-align: top;\n",
       "    }\n",
       "\n",
       "    .dataframe thead th {\n",
       "        text-align: right;\n",
       "    }\n",
       "</style>\n",
       "<table border=\"1\" class=\"dataframe\">\n",
       "  <thead>\n",
       "    <tr style=\"text-align: right;\">\n",
       "      <th></th>\n",
       "      <th>0</th>\n",
       "      <th>1</th>\n",
       "      <th>2</th>\n",
       "      <th>3</th>\n",
       "      <th>4</th>\n",
       "      <th>5</th>\n",
       "      <th>6</th>\n",
       "      <th>7</th>\n",
       "      <th>8</th>\n",
       "      <th>9</th>\n",
       "      <th>...</th>\n",
       "      <th>90</th>\n",
       "      <th>91</th>\n",
       "      <th>92</th>\n",
       "      <th>93</th>\n",
       "      <th>94</th>\n",
       "      <th>95</th>\n",
       "      <th>96</th>\n",
       "      <th>97</th>\n",
       "      <th>98</th>\n",
       "      <th>99</th>\n",
       "    </tr>\n",
       "  </thead>\n",
       "  <tbody>\n",
       "    <tr>\n",
       "      <td>0</td>\n",
       "      <td>0</td>\n",
       "      <td>9</td>\n",
       "      <td>1</td>\n",
       "      <td>12</td>\n",
       "      <td>8</td>\n",
       "      <td>3</td>\n",
       "      <td>7</td>\n",
       "      <td>9</td>\n",
       "      <td>8</td>\n",
       "      <td>10</td>\n",
       "      <td>...</td>\n",
       "      <td>3</td>\n",
       "      <td>3</td>\n",
       "      <td>5</td>\n",
       "      <td>5</td>\n",
       "      <td>9</td>\n",
       "      <td>8</td>\n",
       "      <td>3</td>\n",
       "      <td>5</td>\n",
       "      <td>7</td>\n",
       "      <td>9</td>\n",
       "    </tr>\n",
       "    <tr>\n",
       "      <td>1</td>\n",
       "      <td>9</td>\n",
       "      <td>0</td>\n",
       "      <td>8</td>\n",
       "      <td>10</td>\n",
       "      <td>3</td>\n",
       "      <td>8</td>\n",
       "      <td>7</td>\n",
       "      <td>0</td>\n",
       "      <td>3</td>\n",
       "      <td>10</td>\n",
       "      <td>...</td>\n",
       "      <td>10</td>\n",
       "      <td>10</td>\n",
       "      <td>11</td>\n",
       "      <td>11</td>\n",
       "      <td>9</td>\n",
       "      <td>3</td>\n",
       "      <td>10</td>\n",
       "      <td>4</td>\n",
       "      <td>4</td>\n",
       "      <td>0</td>\n",
       "    </tr>\n",
       "    <tr>\n",
       "      <td>2</td>\n",
       "      <td>1</td>\n",
       "      <td>8</td>\n",
       "      <td>0</td>\n",
       "      <td>11</td>\n",
       "      <td>7</td>\n",
       "      <td>2</td>\n",
       "      <td>5</td>\n",
       "      <td>8</td>\n",
       "      <td>7</td>\n",
       "      <td>9</td>\n",
       "      <td>...</td>\n",
       "      <td>4</td>\n",
       "      <td>4</td>\n",
       "      <td>5</td>\n",
       "      <td>5</td>\n",
       "      <td>8</td>\n",
       "      <td>7</td>\n",
       "      <td>4</td>\n",
       "      <td>5</td>\n",
       "      <td>6</td>\n",
       "      <td>8</td>\n",
       "    </tr>\n",
       "    <tr>\n",
       "      <td>3</td>\n",
       "      <td>12</td>\n",
       "      <td>10</td>\n",
       "      <td>11</td>\n",
       "      <td>0</td>\n",
       "      <td>8</td>\n",
       "      <td>11</td>\n",
       "      <td>5</td>\n",
       "      <td>10</td>\n",
       "      <td>8</td>\n",
       "      <td>7</td>\n",
       "      <td>...</td>\n",
       "      <td>13</td>\n",
       "      <td>13</td>\n",
       "      <td>10</td>\n",
       "      <td>10</td>\n",
       "      <td>6</td>\n",
       "      <td>8</td>\n",
       "      <td>13</td>\n",
       "      <td>11</td>\n",
       "      <td>9</td>\n",
       "      <td>10</td>\n",
       "    </tr>\n",
       "    <tr>\n",
       "      <td>4</td>\n",
       "      <td>8</td>\n",
       "      <td>3</td>\n",
       "      <td>7</td>\n",
       "      <td>8</td>\n",
       "      <td>0</td>\n",
       "      <td>8</td>\n",
       "      <td>5</td>\n",
       "      <td>3</td>\n",
       "      <td>0</td>\n",
       "      <td>7</td>\n",
       "      <td>...</td>\n",
       "      <td>9</td>\n",
       "      <td>9</td>\n",
       "      <td>10</td>\n",
       "      <td>10</td>\n",
       "      <td>6</td>\n",
       "      <td>0</td>\n",
       "      <td>9</td>\n",
       "      <td>3</td>\n",
       "      <td>5</td>\n",
       "      <td>3</td>\n",
       "    </tr>\n",
       "  </tbody>\n",
       "</table>\n",
       "<p>5 rows × 100 columns</p>\n",
       "</div>"
      ],
      "text/plain": [
       "   0   1   2   3   4   5   6   7   8   9   ...  90  91  92  93  94  95  96  \\\n",
       "0   0   9   1  12   8   3   7   9   8  10  ...   3   3   5   5   9   8   3   \n",
       "1   9   0   8  10   3   8   7   0   3  10  ...  10  10  11  11   9   3  10   \n",
       "2   1   8   0  11   7   2   5   8   7   9  ...   4   4   5   5   8   7   4   \n",
       "3  12  10  11   0   8  11   5  10   8   7  ...  13  13  10  10   6   8  13   \n",
       "4   8   3   7   8   0   8   5   3   0   7  ...   9   9  10  10   6   0   9   \n",
       "\n",
       "   97  98  99  \n",
       "0   5   7   9  \n",
       "1   4   4   0  \n",
       "2   5   6   8  \n",
       "3  11   9  10  \n",
       "4   3   5   3  \n",
       "\n",
       "[5 rows x 100 columns]"
      ]
     },
     "execution_count": 19,
     "metadata": {},
     "output_type": "execute_result"
    }
   ],
   "source": [
    "ddr6=ddr5.head(100)\n",
    "dgram=ddr6.loc[:,['Supervisor_District','Current_Police_Districts','Current_Supervisor_Districts']]\n",
    "ddis = DataFrame(euclidean_distances(dgram))\n",
    "ddish=ddis.astype(int).head(5)\n",
    "ddish"
   ]
  },
  {
   "cell_type": "markdown",
   "metadata": {},
   "source": [
    "# 6.2 Dendrogram"
   ]
  },
  {
   "cell_type": "code",
   "execution_count": 20,
   "metadata": {
    "scrolled": false
   },
   "outputs": [
    {
     "data": {
      "image/png": "[encoded data removed]",
      "text/plain": [
       "<Figure size 1440x1440 with 1 Axes>"
      ]
     },
     "metadata": {
      "needs_background": "light"
     },
     "output_type": "display_data"
    }
   ],
   "source": [
    "Z = linkage(dgram, 'average')\n",
    "plt.figure(figsize=(20,20))\n",
    "plt.axhline(y=6, color='k', linestyle='--')\n",
    "D=dendrogram(Z=Z,orientation=\"top\",leaf_font_size=9,labels=dgram.index)"
   ]
  },
  {
   "cell_type": "markdown",
   "metadata": {},
   "source": [
    "# 6.3 Agglomerative Clustering"
   ]
  },
  {
   "cell_type": "code",
   "execution_count": 21,
   "metadata": {
    "scrolled": true
   },
   "outputs": [
    {
     "data": {
      "text/plain": [
       "array([1, 0, 1, 0, 0, 1, 1, 0, 0, 0, 1, 1, 1, 1, 1, 1, 0, 0, 0, 1, 0, 1,\n",
       "       0, 1, 1, 1, 1, 1, 1, 0, 1, 1, 0, 1, 0, 1, 0, 1, 0, 0, 0, 0, 1, 0,\n",
       "       0, 0, 1, 0, 1, 1, 0, 0, 1, 1, 1, 1, 0, 0, 1, 0, 1, 1, 1, 0, 1, 1,\n",
       "       1, 0, 0, 0, 1, 1, 1, 0, 1, 0, 0, 1, 1, 1, 1, 1, 0, 1, 1, 1, 1, 1,\n",
       "       1, 0, 1, 1, 1, 1, 0, 0, 1, 0, 1, 0])"
      ]
     },
     "execution_count": 21,
     "metadata": {},
     "output_type": "execute_result"
    }
   ],
   "source": [
    "dclust = AgglomerativeClustering(n_clusters=2, affinity='euclidean', linkage='average')  \n",
    "dclust.fit_predict(dgram)"
   ]
  },
  {
   "cell_type": "markdown",
   "metadata": {},
   "source": [
    "# 6.4 Explanation "
   ]
  },
  {
   "cell_type": "markdown",
   "metadata": {},
   "source": [
    "<ul><li><p>In <b>6.1</b>, the <b>Euclidean Distance</b> is find using the <b>euclidean_distances()</b>.</p></li>\n",
    "    <li><p>In <b>6.2</b>, the Diagram is available which is known as <b>DENDROGRAM</b>, and its divided into 2 clusters.</p></li>\n",
    "    <li><p>In <b>6.3</b>, the <b>Agglomerative Clustering</b> is used using the function <b>AgglomerativeClustering()</b>, and it is one type of Hierarchical Clustering other than the <b>Divisive Clustering</b>. It is <b>BOTTOM UP</b> Approach.</p></li>\n",
    "</ul> "
   ]
  },
  {
   "cell_type": "markdown",
   "metadata": {},
   "source": [
    "<center><b><font face=\"Century\" color=purple size=6>7. Dendrogram</font></b></center>"
   ]
  },
  {
   "cell_type": "markdown",
   "metadata": {},
   "source": [
    "# 7.1 Dendrogram"
   ]
  },
  {
   "cell_type": "code",
   "execution_count": 22,
   "metadata": {
    "scrolled": false
   },
   "outputs": [
    {
     "data": {
      "image/png": "[encoded data removed]",
      "text/plain": [
       "<Figure size 1440x1440 with 1 Axes>"
      ]
     },
     "metadata": {
      "needs_background": "light"
     },
     "output_type": "display_data"
    }
   ],
   "source": [
    "Z=linkage(dgram,'average')\n",
    "plt.figure(figsize=(20,20))\n",
    "D=dendrogram(Z=Z,orientation=\"top\",leaf_font_size=9,labels=dgram.index)"
   ]
  },
  {
   "cell_type": "markdown",
   "metadata": {},
   "source": [
    "## 7.1.1 Explanation"
   ]
  },
  {
   "cell_type": "markdown",
   "metadata": {},
   "source": [
    "<ul><li><p>The above diagram is <b>DENDROGRAM</b> and it is represented as a tree. This <b>Dendrogram</b> contains the three columns which are <b>Supervisor Districts</b>, <b>Current Police Districts</b> and <b>Current Supervisor Districts</b>.</p></li></ul>"
   ]
  },
  {
   "cell_type": "markdown",
   "metadata": {},
   "source": [
    "# 7.2 Elbow Method"
   ]
  },
  {
   "cell_type": "code",
   "execution_count": 23,
   "metadata": {},
   "outputs": [
    {
     "data": {
      "image/png": "[encoded data removed]",
      "text/plain": [
       "<Figure size 432x288 with 1 Axes>"
      ]
     },
     "metadata": {
      "needs_background": "light"
     },
     "output_type": "display_data"
    }
   ],
   "source": [
    "dmms=MinMaxScaler()\n",
    "dmms.fit(dgram)\n",
    "dtrans=dmms.transform(dgram)\n",
    "\n",
    "dsum=[]\n",
    "K=range(1,15)\n",
    "for k in K:\n",
    "    dkm=KMeans(n_clusters=k)\n",
    "    dkm=dkm.fit(dtrans)\n",
    "    dsum.append(dkm.inertia_)\n",
    "    \n",
    "plt.plot(K,dsum,'bx-')\n",
    "plt.xlabel('k')\n",
    "plt.ylabel('Sum')\n",
    "plt.title('Elbow Method')\n",
    "plt.show()"
   ]
  },
  {
   "cell_type": "markdown",
   "metadata": {},
   "source": [
    "## 7.2.1 Explanation"
   ]
  },
  {
   "cell_type": "markdown",
   "metadata": {},
   "source": [
    "<ul><li><p>The <b>ELBOW METHOD</b> is used for determining the <b>K, the number of clusters</b>. The <b>K Value</b> is 3, here.</p></li></ul>"
   ]
  },
  {
   "cell_type": "markdown",
   "metadata": {},
   "source": [
    "<br><b><font face=\"Californian FB\" color=gray size=7>D. Unsupervised Clustering</font></b>"
   ]
  },
  {
   "cell_type": "markdown",
   "metadata": {},
   "source": [
    "<center><b><font face=\"Century\" color=purple size=6>8. Step by Step K Means</font></b></center>"
   ]
  },
  {
   "cell_type": "markdown",
   "metadata": {},
   "source": [
    "# 8.1 Random Centroids"
   ]
  },
  {
   "cell_type": "code",
   "execution_count": 24,
   "metadata": {
    "scrolled": true
   },
   "outputs": [
    {
     "name": "stdout",
     "output_type": "stream",
     "text": [
      "[4. 4. 4.] [5. 5. 5.] [9. 9. 9.]\n"
     ]
    }
   ],
   "source": [
    "centroid1 = np.array([4.0,4.0,4.0])\n",
    "centroid2 = np.array([5.0,5.0,5.0])\n",
    "centroid3 = np.array([9.0,9.0,9.0])\n",
    "print(centroid1, centroid2, centroid3)"
   ]
  },
  {
   "cell_type": "markdown",
   "metadata": {},
   "source": [
    "# 8.2 KMEANS Function"
   ]
  },
  {
   "cell_type": "code",
   "execution_count": 25,
   "metadata": {},
   "outputs": [],
   "source": [
    "def KMEANS(centroid1,centroid2,centroid3,dataframe,k):\n",
    "    \n",
    "    dataframe=dgram\n",
    "    k=3\n",
    "    dgram[\"Dis_1\"] = np.sqrt((dgram.Supervisor_District - centroid1[0])**2 \n",
    "                             + (dgram.Current_Police_Districts - centroid1[1])**2\n",
    "                            +(dgram.Current_Supervisor_Districts - centroid1[2])**2)\n",
    "    \n",
    "    \n",
    "    dgram[\"Dis_2\"] = np.sqrt((dgram.Supervisor_District - centroid2[0])**2 \n",
    "                             + (dgram.Current_Police_Districts - centroid2[1])**2\n",
    "                            +(dgram.Current_Supervisor_Districts - centroid2[2])**2)\n",
    "    \n",
    "    \n",
    "    dgram[\"Dis_3\"] = np.sqrt((dgram.Supervisor_District - centroid3[0])**2 \n",
    "                             + (dgram.Current_Police_Districts - centroid3[1])**2\n",
    "                            +(dgram.Current_Supervisor_Districts - centroid3[2])**2)\n",
    "\n",
    "    dgram[\"Association\"] = np.where( (dgram.Dis_1 < dgram.Dis_2) & (dgram.Dis_1 < dgram.Dis_3), 1, np.where((dgram.Dis_2 < dgram.Dis_1) & \n",
    "    (dgram.Dis_2 < dgram.Dis_3) , 2, 3))\n",
    "\n",
    "    cen1 = dgram[dgram.Association == 1][[\"Supervisor_District\",\"Current_Police_Districts\",\"Current_Supervisor_Districts\"]].mean()\n",
    "    cen2 = dgram[dgram.Association == 2][[\"Supervisor_District\",\"Current_Police_Districts\",\"Current_Supervisor_Districts\"]].mean()\n",
    "    cen3 = dgram[dgram.Association == 3][[\"Supervisor_District\",\"Current_Police_Districts\",\"Current_Supervisor_Districts\"]].mean()\n",
    "    \n",
    "    return(cen1,cen2,cen3)\n"
   ]
  },
  {
   "cell_type": "markdown",
   "metadata": {},
   "source": [
    "# 8.3 Iterations"
   ]
  },
  {
   "cell_type": "markdown",
   "metadata": {},
   "source": [
    "## 8.3.1 First Iteration"
   ]
  },
  {
   "cell_type": "code",
   "execution_count": 26,
   "metadata": {},
   "outputs": [
    {
     "data": {
      "text/plain": [
       "(Supervisor_District             2.500000\n",
       " Current_Police_Districts        6.333333\n",
       " Current_Supervisor_Districts    3.500000\n",
       " dtype: float64, Supervisor_District             6.543478\n",
       " Current_Police_Districts        3.391304\n",
       " Current_Supervisor_Districts    7.260870\n",
       " dtype: float64, Supervisor_District             8.138889\n",
       " Current_Police_Districts        6.250000\n",
       " Current_Supervisor_Districts    8.194444\n",
       " dtype: float64)"
      ]
     },
     "execution_count": 26,
     "metadata": {},
     "output_type": "execute_result"
    }
   ],
   "source": [
    "dataframe=dgram\n",
    "k=3\n",
    "dfi=KMEANS(centroid1,centroid2,centroid3,dataframe,k)\n",
    "dfi"
   ]
  },
  {
   "cell_type": "markdown",
   "metadata": {},
   "source": [
    "## 8.3.2 Second Iteration"
   ]
  },
  {
   "cell_type": "code",
   "execution_count": 27,
   "metadata": {
    "scrolled": true
   },
   "outputs": [
    {
     "data": {
      "text/plain": [
       "(Supervisor_District             2.190476\n",
       " Current_Police_Districts        6.761905\n",
       " Current_Supervisor_Districts    4.095238\n",
       " dtype: float64, Supervisor_District             7.44\n",
       " Current_Police_Districts        2.60\n",
       " Current_Supervisor_Districts    7.76\n",
       " dtype: float64, Supervisor_District             7.620690\n",
       " Current_Police_Districts        7.689655\n",
       " Current_Supervisor_Districts    7.517241\n",
       " dtype: float64)"
      ]
     },
     "execution_count": 27,
     "metadata": {},
     "output_type": "execute_result"
    }
   ],
   "source": [
    "dfi2 = KMEANS(dfi[0],dfi[1],dfi[2],dataframe,k)\n",
    "dfi2"
   ]
  },
  {
   "cell_type": "markdown",
   "metadata": {},
   "source": [
    "## 8.3.3 Third Iteration "
   ]
  },
  {
   "cell_type": "code",
   "execution_count": 28,
   "metadata": {
    "scrolled": true
   },
   "outputs": [
    {
     "data": {
      "text/plain": [
       "(Supervisor_District             2.10\n",
       " Current_Police_Districts        6.60\n",
       " Current_Supervisor_Districts    3.95\n",
       " dtype: float64, Supervisor_District             7.263158\n",
       " Current_Police_Districts        2.894737\n",
       " Current_Supervisor_Districts    8.035088\n",
       " dtype: float64, Supervisor_District             7.956522\n",
       " Current_Police_Districts        8.608696\n",
       " Current_Supervisor_Districts    6.739130\n",
       " dtype: float64)"
      ]
     },
     "execution_count": 28,
     "metadata": {},
     "output_type": "execute_result"
    }
   ],
   "source": [
    "dfi3 = KMEANS(dfi2[0],dfi2[1],dfi2[2],dataframe,k)\n",
    "dfi3"
   ]
  },
  {
   "cell_type": "markdown",
   "metadata": {},
   "source": [
    "## 8.3.4 Fourth Iteration"
   ]
  },
  {
   "cell_type": "code",
   "execution_count": 29,
   "metadata": {
    "scrolled": true
   },
   "outputs": [
    {
     "data": {
      "text/plain": [
       "(Supervisor_District             2.10\n",
       " Current_Police_Districts        6.60\n",
       " Current_Supervisor_Districts    3.95\n",
       " dtype: float64, Supervisor_District             7.263158\n",
       " Current_Police_Districts        2.894737\n",
       " Current_Supervisor_Districts    8.035088\n",
       " dtype: float64, Supervisor_District             7.956522\n",
       " Current_Police_Districts        8.608696\n",
       " Current_Supervisor_Districts    6.739130\n",
       " dtype: float64)"
      ]
     },
     "execution_count": 29,
     "metadata": {},
     "output_type": "execute_result"
    }
   ],
   "source": [
    "dfi4 = KMEANS(dfi3[0],dfi3[1],dfi3[2],dataframe,k)\n",
    "dfi4"
   ]
  },
  {
   "cell_type": "markdown",
   "metadata": {},
   "source": [
    "# 8.4 Associations"
   ]
  },
  {
   "cell_type": "markdown",
   "metadata": {},
   "source": [
    "## 8.4.1 First Associations"
   ]
  },
  {
   "cell_type": "code",
   "execution_count": 30,
   "metadata": {
    "scrolled": false
   },
   "outputs": [
    {
     "data": {
      "text/html": [
       "<div>\n",
       "<style scoped>\n",
       "    .dataframe tbody tr th:only-of-type {\n",
       "        vertical-align: middle;\n",
       "    }\n",
       "\n",
       "    .dataframe tbody tr th {\n",
       "        vertical-align: top;\n",
       "    }\n",
       "\n",
       "    .dataframe thead th {\n",
       "        text-align: right;\n",
       "    }\n",
       "</style>\n",
       "<table border=\"1\" class=\"dataframe\">\n",
       "  <thead>\n",
       "    <tr style=\"text-align: right;\">\n",
       "      <th></th>\n",
       "      <th>Supervisor_District</th>\n",
       "      <th>Current_Police_Districts</th>\n",
       "      <th>Current_Supervisor_Districts</th>\n",
       "      <th>Dis_1</th>\n",
       "      <th>Dis_2</th>\n",
       "      <th>Dis_3</th>\n",
       "      <th>Association</th>\n",
       "    </tr>\n",
       "  </thead>\n",
       "  <tbody>\n",
       "    <tr>\n",
       "      <td>4</td>\n",
       "      <td>1.0</td>\n",
       "      <td>8.0</td>\n",
       "      <td>4.0</td>\n",
       "      <td>1.781151</td>\n",
       "      <td>9.031766</td>\n",
       "      <td>7.501103</td>\n",
       "      <td>1</td>\n",
       "    </tr>\n",
       "    <tr>\n",
       "      <td>8</td>\n",
       "      <td>3.0</td>\n",
       "      <td>6.0</td>\n",
       "      <td>3.0</td>\n",
       "      <td>1.439618</td>\n",
       "      <td>7.291727</td>\n",
       "      <td>6.734501</td>\n",
       "      <td>1</td>\n",
       "    </tr>\n",
       "    <tr>\n",
       "      <td>11</td>\n",
       "      <td>1.0</td>\n",
       "      <td>8.0</td>\n",
       "      <td>4.0</td>\n",
       "      <td>1.781151</td>\n",
       "      <td>9.031766</td>\n",
       "      <td>7.501103</td>\n",
       "      <td>1</td>\n",
       "    </tr>\n",
       "    <tr>\n",
       "      <td>12</td>\n",
       "      <td>3.0</td>\n",
       "      <td>6.0</td>\n",
       "      <td>3.0</td>\n",
       "      <td>1.439618</td>\n",
       "      <td>7.291727</td>\n",
       "      <td>6.734501</td>\n",
       "      <td>1</td>\n",
       "    </tr>\n",
       "    <tr>\n",
       "      <td>23</td>\n",
       "      <td>3.0</td>\n",
       "      <td>6.0</td>\n",
       "      <td>3.0</td>\n",
       "      <td>1.439618</td>\n",
       "      <td>7.291727</td>\n",
       "      <td>6.734501</td>\n",
       "      <td>1</td>\n",
       "    </tr>\n",
       "  </tbody>\n",
       "</table>\n",
       "</div>"
      ],
      "text/plain": [
       "    Supervisor_District  Current_Police_Districts  \\\n",
       "4                   1.0                       8.0   \n",
       "8                   3.0                       6.0   \n",
       "11                  1.0                       8.0   \n",
       "12                  3.0                       6.0   \n",
       "23                  3.0                       6.0   \n",
       "\n",
       "    Current_Supervisor_Districts     Dis_1     Dis_2     Dis_3  Association  \n",
       "4                            4.0  1.781151  9.031766  7.501103            1  \n",
       "8                            3.0  1.439618  7.291727  6.734501            1  \n",
       "11                           4.0  1.781151  9.031766  7.501103            1  \n",
       "12                           3.0  1.439618  7.291727  6.734501            1  \n",
       "23                           3.0  1.439618  7.291727  6.734501            1  "
      ]
     },
     "execution_count": 30,
     "metadata": {},
     "output_type": "execute_result"
    }
   ],
   "source": [
    "dgram[dgram.Association == 1].head(5)"
   ]
  },
  {
   "cell_type": "code",
   "execution_count": 31,
   "metadata": {},
   "outputs": [
    {
     "data": {
      "text/plain": [
       "(20, 7)"
      ]
     },
     "execution_count": 31,
     "metadata": {},
     "output_type": "execute_result"
    }
   ],
   "source": [
    "dgram[dgram.Association == 1].shape"
   ]
  },
  {
   "cell_type": "markdown",
   "metadata": {},
   "source": [
    "## 8.4.2 Second Associations"
   ]
  },
  {
   "cell_type": "code",
   "execution_count": 32,
   "metadata": {
    "scrolled": false
   },
   "outputs": [
    {
     "data": {
      "text/html": [
       "<div>\n",
       "<style scoped>\n",
       "    .dataframe tbody tr th:only-of-type {\n",
       "        vertical-align: middle;\n",
       "    }\n",
       "\n",
       "    .dataframe tbody tr th {\n",
       "        vertical-align: top;\n",
       "    }\n",
       "\n",
       "    .dataframe thead th {\n",
       "        text-align: right;\n",
       "    }\n",
       "</style>\n",
       "<table border=\"1\" class=\"dataframe\">\n",
       "  <thead>\n",
       "    <tr style=\"text-align: right;\">\n",
       "      <th></th>\n",
       "      <th>Supervisor_District</th>\n",
       "      <th>Current_Police_Districts</th>\n",
       "      <th>Current_Supervisor_Districts</th>\n",
       "      <th>Dis_1</th>\n",
       "      <th>Dis_2</th>\n",
       "      <th>Dis_3</th>\n",
       "      <th>Association</th>\n",
       "    </tr>\n",
       "  </thead>\n",
       "  <tbody>\n",
       "    <tr>\n",
       "      <td>2</td>\n",
       "      <td>5.0</td>\n",
       "      <td>4.0</td>\n",
       "      <td>11.0</td>\n",
       "      <td>8.054347</td>\n",
       "      <td>3.890269</td>\n",
       "      <td>6.938019</td>\n",
       "      <td>2</td>\n",
       "    </tr>\n",
       "    <tr>\n",
       "      <td>5</td>\n",
       "      <td>6.0</td>\n",
       "      <td>5.0</td>\n",
       "      <td>10.0</td>\n",
       "      <td>7.373771</td>\n",
       "      <td>3.144611</td>\n",
       "      <td>5.242512</td>\n",
       "      <td>2</td>\n",
       "    </tr>\n",
       "    <tr>\n",
       "      <td>13</td>\n",
       "      <td>9.0</td>\n",
       "      <td>2.0</td>\n",
       "      <td>2.0</td>\n",
       "      <td>8.518949</td>\n",
       "      <td>6.343458</td>\n",
       "      <td>8.198967</td>\n",
       "      <td>2</td>\n",
       "    </tr>\n",
       "    <tr>\n",
       "      <td>15</td>\n",
       "      <td>5.0</td>\n",
       "      <td>4.0</td>\n",
       "      <td>11.0</td>\n",
       "      <td>8.054347</td>\n",
       "      <td>3.890269</td>\n",
       "      <td>6.938019</td>\n",
       "      <td>2</td>\n",
       "    </tr>\n",
       "    <tr>\n",
       "      <td>16</td>\n",
       "      <td>5.0</td>\n",
       "      <td>4.0</td>\n",
       "      <td>11.0</td>\n",
       "      <td>8.054347</td>\n",
       "      <td>3.890269</td>\n",
       "      <td>6.938019</td>\n",
       "      <td>2</td>\n",
       "    </tr>\n",
       "  </tbody>\n",
       "</table>\n",
       "</div>"
      ],
      "text/plain": [
       "    Supervisor_District  Current_Police_Districts  \\\n",
       "2                   5.0                       4.0   \n",
       "5                   6.0                       5.0   \n",
       "13                  9.0                       2.0   \n",
       "15                  5.0                       4.0   \n",
       "16                  5.0                       4.0   \n",
       "\n",
       "    Current_Supervisor_Districts     Dis_1     Dis_2     Dis_3  Association  \n",
       "2                           11.0  8.054347  3.890269  6.938019            2  \n",
       "5                           10.0  7.373771  3.144611  5.242512            2  \n",
       "13                           2.0  8.518949  6.343458  8.198967            2  \n",
       "15                          11.0  8.054347  3.890269  6.938019            2  \n",
       "16                          11.0  8.054347  3.890269  6.938019            2  "
      ]
     },
     "execution_count": 32,
     "metadata": {},
     "output_type": "execute_result"
    }
   ],
   "source": [
    "dgram[dgram.Association == 2].head(5)"
   ]
  },
  {
   "cell_type": "code",
   "execution_count": 33,
   "metadata": {},
   "outputs": [
    {
     "data": {
      "text/plain": [
       "(57, 7)"
      ]
     },
     "execution_count": 33,
     "metadata": {},
     "output_type": "execute_result"
    }
   ],
   "source": [
    "dgram[dgram.Association == 2].shape"
   ]
  },
  {
   "cell_type": "markdown",
   "metadata": {},
   "source": [
    "## 8.4.3 Third Associations"
   ]
  },
  {
   "cell_type": "code",
   "execution_count": 34,
   "metadata": {
    "scrolled": true
   },
   "outputs": [
    {
     "data": {
      "text/html": [
       "<div>\n",
       "<style scoped>\n",
       "    .dataframe tbody tr th:only-of-type {\n",
       "        vertical-align: middle;\n",
       "    }\n",
       "\n",
       "    .dataframe tbody tr th {\n",
       "        vertical-align: top;\n",
       "    }\n",
       "\n",
       "    .dataframe thead th {\n",
       "        text-align: right;\n",
       "    }\n",
       "</style>\n",
       "<table border=\"1\" class=\"dataframe\">\n",
       "  <thead>\n",
       "    <tr style=\"text-align: right;\">\n",
       "      <th></th>\n",
       "      <th>Supervisor_District</th>\n",
       "      <th>Current_Police_Districts</th>\n",
       "      <th>Current_Supervisor_Districts</th>\n",
       "      <th>Dis_1</th>\n",
       "      <th>Dis_2</th>\n",
       "      <th>Dis_3</th>\n",
       "      <th>Association</th>\n",
       "    </tr>\n",
       "  </thead>\n",
       "  <tbody>\n",
       "    <tr>\n",
       "      <td>7</td>\n",
       "      <td>11.0</td>\n",
       "      <td>9.0</td>\n",
       "      <td>1.0</td>\n",
       "      <td>9.678455</td>\n",
       "      <td>10.036468</td>\n",
       "      <td>6.507956</td>\n",
       "      <td>3</td>\n",
       "    </tr>\n",
       "    <tr>\n",
       "      <td>9</td>\n",
       "      <td>5.0</td>\n",
       "      <td>7.0</td>\n",
       "      <td>11.0</td>\n",
       "      <td>7.633643</td>\n",
       "      <td>5.546690</td>\n",
       "      <td>5.429911</td>\n",
       "      <td>3</td>\n",
       "    </tr>\n",
       "    <tr>\n",
       "      <td>10</td>\n",
       "      <td>8.0</td>\n",
       "      <td>7.0</td>\n",
       "      <td>5.0</td>\n",
       "      <td>6.006039</td>\n",
       "      <td>5.158283</td>\n",
       "      <td>2.369465</td>\n",
       "      <td>3</td>\n",
       "    </tr>\n",
       "    <tr>\n",
       "      <td>14</td>\n",
       "      <td>8.0</td>\n",
       "      <td>7.0</td>\n",
       "      <td>5.0</td>\n",
       "      <td>6.006039</td>\n",
       "      <td>5.158283</td>\n",
       "      <td>2.369465</td>\n",
       "      <td>3</td>\n",
       "    </tr>\n",
       "    <tr>\n",
       "      <td>30</td>\n",
       "      <td>8.0</td>\n",
       "      <td>7.0</td>\n",
       "      <td>5.0</td>\n",
       "      <td>6.006039</td>\n",
       "      <td>5.158283</td>\n",
       "      <td>2.369465</td>\n",
       "      <td>3</td>\n",
       "    </tr>\n",
       "  </tbody>\n",
       "</table>\n",
       "</div>"
      ],
      "text/plain": [
       "    Supervisor_District  Current_Police_Districts  \\\n",
       "7                  11.0                       9.0   \n",
       "9                   5.0                       7.0   \n",
       "10                  8.0                       7.0   \n",
       "14                  8.0                       7.0   \n",
       "30                  8.0                       7.0   \n",
       "\n",
       "    Current_Supervisor_Districts     Dis_1      Dis_2     Dis_3  Association  \n",
       "7                            1.0  9.678455  10.036468  6.507956            3  \n",
       "9                           11.0  7.633643   5.546690  5.429911            3  \n",
       "10                           5.0  6.006039   5.158283  2.369465            3  \n",
       "14                           5.0  6.006039   5.158283  2.369465            3  \n",
       "30                           5.0  6.006039   5.158283  2.369465            3  "
      ]
     },
     "execution_count": 34,
     "metadata": {},
     "output_type": "execute_result"
    }
   ],
   "source": [
    "dgram[dgram.Association == 3].head(5)"
   ]
  },
  {
   "cell_type": "code",
   "execution_count": 35,
   "metadata": {},
   "outputs": [
    {
     "data": {
      "text/plain": [
       "(23, 7)"
      ]
     },
     "execution_count": 35,
     "metadata": {},
     "output_type": "execute_result"
    }
   ],
   "source": [
    "dgram[dgram.Association == 3].shape"
   ]
  },
  {
   "cell_type": "markdown",
   "metadata": {},
   "source": [
    "# 8.5 Explanation"
   ]
  },
  {
   "cell_type": "markdown",
   "metadata": {},
   "source": [
    "<ul><li><p>First, the <b>Random Centroids</b> are established in <b>8.1</b>, then its followed by <b>KMEANS()</b> function which accepts the <b>DataFrame</b> and return the <b>K, the number of clusters</b> in <b>8.2</b>.</p></li>\n",
    "\n",
    "<li><p>The Centroid stop moving after the <b>Fourth Iteration</b>, the Values are shown in <b>8.3</b> from <b>8.3.1</b> to <b>8.3.4</b>.</p></li>\n",
    "\n",
    "<li><p>The Asscoiations of the Values are shown in <b>8.4</b>. The Highest Association is in <b>Second</b> which has 57 ROWS, followed by Association <b>Third</b> which has 23 ROWS, and the lowest is of  <b>First</b> Association, which has 20 ROWS."
   ]
  },
  {
   "cell_type": "markdown",
   "metadata": {},
   "source": [
    "<center><b><font face=\"Century\" color=purple size=6>9. sklearn.cluster</font></b></center>"
   ]
  },
  {
   "cell_type": "markdown",
   "metadata": {},
   "source": [
    "# 9.1 Default KMeans Function"
   ]
  },
  {
   "cell_type": "markdown",
   "metadata": {},
   "source": [
    "## 9.1.1 fit() Function"
   ]
  },
  {
   "cell_type": "code",
   "execution_count": 36,
   "metadata": {},
   "outputs": [
    {
     "data": {
      "text/plain": [
       "KMeans(algorithm='auto', copy_x=True, init='k-means++', max_iter=300,\n",
       "       n_clusters=3, n_init=10, n_jobs=None, precompute_distances='auto',\n",
       "       random_state=None, tol=0.0001, verbose=0)"
      ]
     },
     "execution_count": 36,
     "metadata": {},
     "output_type": "execute_result"
    }
   ],
   "source": [
    "dgram=ddr6.loc[:,['Supervisor_District','Current_Police_Districts','Current_Supervisor_Districts']]\n",
    "dmo = KMeans(n_clusters = 3)\n",
    "dmo.fit(dgram)"
   ]
  },
  {
   "cell_type": "markdown",
   "metadata": {},
   "source": [
    "## 9.1.2 Extracting the Labels"
   ]
  },
  {
   "cell_type": "code",
   "execution_count": 37,
   "metadata": {
    "scrolled": true
   },
   "outputs": [
    {
     "data": {
      "text/plain": [
       "array([0, 1, 0, 2, 1, 0, 2, 1, 1, 2, 2, 0, 0, 0, 0, 0, 2, 1, 1, 0, 1, 0,\n",
       "       2, 2, 0, 0, 0, 0, 0, 2, 2, 0, 2, 0, 2, 0, 1, 0, 2, 1, 2, 2, 0, 2,\n",
       "       2, 2, 0, 2, 0, 0, 1, 2, 0, 0, 0, 0, 2, 2, 0, 2, 0, 0, 0, 1, 0, 0,\n",
       "       0, 2, 1, 1, 0, 0, 0, 1, 0, 1, 1, 2, 0, 0, 0, 0, 2, 0, 0, 0, 0, 0,\n",
       "       0, 1, 0, 0, 0, 0, 2, 1, 0, 1, 1, 1], dtype=int32)"
      ]
     },
     "execution_count": 37,
     "metadata": {},
     "output_type": "execute_result"
    }
   ],
   "source": [
    "dmo.labels_"
   ]
  },
  {
   "cell_type": "markdown",
   "metadata": {},
   "source": [
    "## 9.1.3 Optimal Number of Clusters"
   ]
  },
  {
   "cell_type": "code",
   "execution_count": 38,
   "metadata": {
    "scrolled": true
   },
   "outputs": [
    {
     "data": {
      "text/plain": [
       "1059.400684221439"
      ]
     },
     "execution_count": 38,
     "metadata": {},
     "output_type": "execute_result"
    }
   ],
   "source": [
    "dmo.inertia_"
   ]
  },
  {
   "cell_type": "markdown",
   "metadata": {},
   "source": [
    "## 9.1.4 3D Plot"
   ]
  },
  {
   "cell_type": "code",
   "execution_count": 39,
   "metadata": {},
   "outputs": [
    {
     "data": {
      "image/png": "[encoded data removed]",
      "text/plain": [
       "<Figure size 1080x1080 with 1 Axes>"
      ]
     },
     "metadata": {
      "needs_background": "light"
     },
     "output_type": "display_data"
    }
   ],
   "source": [
    "fig = plt.figure(figsize=(15, 15))\n",
    "ax = fig.add_subplot(111, projection='3d')\n",
    " \n",
    "ax.scatter(xs = dgram.Supervisor_District, ys = dgram.Current_Police_Districts, zs = dgram.Current_Supervisor_Districts, c = dmo.labels_, \n",
    "           s = 180, depthshade = False)\n",
    "\n",
    "plt.title('K Mean Classification')\n",
    "for x, y, z,l in zip(dgram.Supervisor_District,dgram.Current_Police_Districts,dgram.Current_Supervisor_Districts,dgram.index):\n",
    "    ax.text(x, y, z,l)\n",
    "\n",
    "ax.set_xlabel('Supervisor_District')\n",
    "ax.set_ylabel('Current_Police_Districts')\n",
    "ax.set_zlabel('Current_Supervisor_Districts')\n",
    "\n",
    "plt.show()"
   ]
  },
  {
   "cell_type": "markdown",
   "metadata": {},
   "source": [
    "## 9.1.5 Explanation"
   ]
  },
  {
   "cell_type": "markdown",
   "metadata": {},
   "source": [
    "<ul><li><p>The <b>KMeans</b> is the Default Function of <b>sklearn.cluster</b> Library. The <b>fit()</b> function is used to fit the model. The <b>labels_</b> is used for extracting the labels. The <b>inertia_</b> is used for the counting the optimal number of clusters, and finally the plot which is the <b>3D Plot</b>.</p></li></ul>"
   ]
  },
  {
   "cell_type": "markdown",
   "metadata": {},
   "source": [
    "<br><b><font face=\"Californian FB\" color=gray size=7>E. Supervised Clustering</font></b>"
   ]
  },
  {
   "cell_type": "markdown",
   "metadata": {},
   "source": [
    "<center><b><font face=\"Century\" color=purple size=6>10. kNN Function</font></b></center>"
   ]
  },
  {
   "cell_type": "markdown",
   "metadata": {},
   "source": [
    "# 10.1 First Parameter"
   ]
  },
  {
   "cell_type": "code",
   "execution_count": 40,
   "metadata": {},
   "outputs": [
    {
     "data": {
      "text/plain": [
       "KNeighborsClassifier(algorithm='auto', leaf_size=30, metric='minkowski',\n",
       "                     metric_params=None, n_jobs=None, n_neighbors=3, p=2,\n",
       "                     weights='uniform')"
      ]
     },
     "execution_count": 40,
     "metadata": {},
     "output_type": "execute_result"
    }
   ],
   "source": [
    "features = ddr5.drop('Supervisor_District', axis = 1).values\n",
    "target = ddr5['Supervisor_District'].values\n",
    "X_train, X_test, y_train, y_test = train_test_split(features, target, test_size = 0.3, random_state = 42, stratify = target)\n",
    "knn_classifier = KNeighborsClassifier(n_neighbors=3)\n",
    "knn_classifier.fit(X_train, y_train)"
   ]
  },
  {
   "cell_type": "code",
   "execution_count": 41,
   "metadata": {},
   "outputs": [
    {
     "data": {
      "text/plain": [
       "0.9999353462209866"
      ]
     },
     "execution_count": 41,
     "metadata": {},
     "output_type": "execute_result"
    }
   ],
   "source": [
    "knn_classifier.score(X_test, y_test)"
   ]
  },
  {
   "cell_type": "markdown",
   "metadata": {},
   "source": [
    "# 10.2 Second Parameter"
   ]
  },
  {
   "cell_type": "code",
   "execution_count": 42,
   "metadata": {},
   "outputs": [
    {
     "data": {
      "text/plain": [
       "KNeighborsClassifier(algorithm='auto', leaf_size=30, metric='minkowski',\n",
       "                     metric_params=None, n_jobs=None, n_neighbors=3, p=2,\n",
       "                     weights='uniform')"
      ]
     },
     "execution_count": 42,
     "metadata": {},
     "output_type": "execute_result"
    }
   ],
   "source": [
    "features = ddr5.drop('SF_Find_Neighborhoods', axis = 1).values\n",
    "target = ddr5['SF_Find_Neighborhoods'].values\n",
    "X_train, X_test, y_train, y_test = train_test_split(features, target, test_size = 0.3, random_state = 42, stratify = target)\n",
    "knn_classifier = KNeighborsClassifier(n_neighbors=3)\n",
    "knn_classifier.fit(X_train, y_train)"
   ]
  },
  {
   "cell_type": "code",
   "execution_count": 43,
   "metadata": {},
   "outputs": [
    {
     "data": {
      "text/plain": [
       "0.9991271739833193"
      ]
     },
     "execution_count": 43,
     "metadata": {},
     "output_type": "execute_result"
    }
   ],
   "source": [
    "knn_classifier.score(X_test, y_test)"
   ]
  },
  {
   "cell_type": "markdown",
   "metadata": {},
   "source": [
    "# 10.3 Third Parameter"
   ]
  },
  {
   "cell_type": "code",
   "execution_count": 44,
   "metadata": {},
   "outputs": [
    {
     "data": {
      "text/plain": [
       "KNeighborsClassifier(algorithm='auto', leaf_size=30, metric='minkowski',\n",
       "                     metric_params=None, n_jobs=None, n_neighbors=3, p=2,\n",
       "                     weights='uniform')"
      ]
     },
     "execution_count": 44,
     "metadata": {},
     "output_type": "execute_result"
    }
   ],
   "source": [
    "features = ddr5.drop('Current_Police_Districts', axis = 1).values\n",
    "target = ddr5['Current_Police_Districts'].values\n",
    "X_train, X_test, y_train, y_test = train_test_split(features, target, test_size = 0.3, random_state = 42, stratify = target)\n",
    "knn_classifier = KNeighborsClassifier(n_neighbors=3)\n",
    "knn_classifier.fit(X_train, y_train)"
   ]
  },
  {
   "cell_type": "code",
   "execution_count": 45,
   "metadata": {},
   "outputs": [
    {
     "data": {
      "text/plain": [
       "0.9999191827762333"
      ]
     },
     "execution_count": 45,
     "metadata": {},
     "output_type": "execute_result"
    }
   ],
   "source": [
    "knn_classifier.score(X_test, y_test)"
   ]
  },
  {
   "cell_type": "markdown",
   "metadata": {},
   "source": [
    "# 10.4 Fourth Parameter"
   ]
  },
  {
   "cell_type": "code",
   "execution_count": 46,
   "metadata": {},
   "outputs": [
    {
     "data": {
      "text/plain": [
       "KNeighborsClassifier(algorithm='auto', leaf_size=30, metric='minkowski',\n",
       "                     metric_params=None, n_jobs=None, n_neighbors=3, p=2,\n",
       "                     weights='uniform')"
      ]
     },
     "execution_count": 46,
     "metadata": {},
     "output_type": "execute_result"
    }
   ],
   "source": [
    "features = ddr5.drop('Current_Supervisor_Districts', axis = 1).values\n",
    "target = ddr5['Current_Supervisor_Districts'].values\n",
    "X_train, X_test, y_train, y_test = train_test_split(features, target, test_size = 0.3, random_state = 42, stratify = target)\n",
    "knn_classifier = KNeighborsClassifier(n_neighbors=3)\n",
    "knn_classifier.fit(X_train, y_train)"
   ]
  },
  {
   "cell_type": "code",
   "execution_count": 47,
   "metadata": {},
   "outputs": [
    {
     "data": {
      "text/plain": [
       "0.9999838365552467"
      ]
     },
     "execution_count": 47,
     "metadata": {},
     "output_type": "execute_result"
    }
   ],
   "source": [
    "knn_classifier.score(X_test, y_test)"
   ]
  },
  {
   "cell_type": "markdown",
   "metadata": {},
   "source": [
    "# 10.5 Fifth Parameter"
   ]
  },
  {
   "cell_type": "code",
   "execution_count": 48,
   "metadata": {},
   "outputs": [
    {
     "data": {
      "text/plain": [
       "KNeighborsClassifier(algorithm='auto', leaf_size=30, metric='minkowski',\n",
       "                     metric_params=None, n_jobs=None, n_neighbors=3, p=2,\n",
       "                     weights='uniform')"
      ]
     },
     "execution_count": 48,
     "metadata": {},
     "output_type": "execute_result"
    }
   ],
   "source": [
    "features = ddr5.drop('Analysis_Neighborhoods', axis = 1).values\n",
    "target = ddr5['Analysis_Neighborhoods'].values\n",
    "X_train, X_test, y_train, y_test = train_test_split(features, target, test_size = 0.3, random_state = 42, stratify = target)\n",
    "knn_classifier = KNeighborsClassifier(n_neighbors=3)\n",
    "knn_classifier.fit(X_train, y_train)"
   ]
  },
  {
   "cell_type": "code",
   "execution_count": 49,
   "metadata": {},
   "outputs": [
    {
     "data": {
      "text/plain": [
       "0.9997737117734532"
      ]
     },
     "execution_count": 49,
     "metadata": {},
     "output_type": "execute_result"
    }
   ],
   "source": [
    "knn_classifier.score(X_test, y_test)"
   ]
  },
  {
   "cell_type": "markdown",
   "metadata": {},
   "source": [
    "# 10.6 Explanation"
   ]
  },
  {
   "cell_type": "markdown",
   "metadata": {},
   "source": [
    "<ul><li><p><b>kNN</b> stands for <i>k Nearest Neighbors</i>.</p></li>\n",
    "    <li><p>There are two variables here : <b>Features</b> Variable and <b>Target</b> Variable.</p></li>\n",
    "    <li><p>The <b>.values</b> is used to convert the values in the features and target variables into NumPy arrays.</p></li>\n",
    "    <li><p>The <b>train_test_split()</b> will split the features and target into training and test sets.</p></li>\n",
    "    <li><p><b>X_train</b> and <b>X_test</b> correspond to the training and test sets for the features, while <b>y_train</b> and <b>y_test</b> correspond to training and test sets for the target variable.</p></li>\n",
    "    <li><p>The test set will use <b>30%</b> of the Original Data by specifying the <b>test_size=0.3</b>, whereas training set will use <b>70%</b> of the Original Data.</p></li>\n",
    "    <li><p>The function <b>KNeighborsClassifier</b> is used here with the <b>3</b> neighbors.</p></li>\n",
    "    <li><p>the <b>.fit()</b> is used to fit the classifier on the training data. The <b>.score()</b> is used on the test data, to obtain a value between 0 and 1 that indicates how accurate the classifier is.</p></li>\n",
    "    <li><p>There are five different parameters which is used here are: <b>Supervisor District</b>, <b>SF Find Neighborhoods</b>, <b>Current Police Districts</b>, <b>Current Supervisor Districts</b> and <b>Analysis Neighborhoods</b>.</p></li>\n",
    "    <li><p>All the five parameters has a score of <b>0.99</b> which is equivalent to <b>99%</b>.</p></li>\n",
    "</ul>"
   ]
  },
  {
   "cell_type": "markdown",
   "metadata": {},
   "source": [
    "<br><b><font face=\"Californian FB\" color=gray size=7>F. Findings</font></b>"
   ]
  },
  {
   "cell_type": "markdown",
   "metadata": {},
   "source": [
    "<center><b><font face=\"Century\" color=purple size=6>11. Project Report</font></b></center>"
   ]
  },
  {
   "cell_type": "markdown",
   "metadata": {},
   "source": [
    "<ul><li><p>In this report, we have analysed the crime and fraud data for the city and county of San Francisco. This analysis would be presented to our stakeholder i.e. to our Police Department and to News Media. Media will use this analysis to prepare the report of the crime in the city and broadcast it in their paper and electronic media in order to make awareness about the crime to the people residing in San Francisco. Police department will use this information to know the statistics and solve the safety issues by planning accordingly. <br></p></li></ul>\n",
    "<ul><li><p>In this dataset, the emphasize is put on the columns like crime code, crime place and police supervisor, district suprtvisor to know that which place in SF is highly affected by safety issues and how many protective units are present to help people with it. We have used supervised and unsupervised clustering to group the data and then present the result. Different methods like step by step hierarchical clustering, k means, sklearn.cluster and kNN method to perform the clustering.</p></li></ul>\n"
   ]
  },
  {
   "cell_type": "code",
   "execution_count": 52,
   "metadata": {},
   "outputs": [
    {
     "data": {
      "text/plain": [
       "<matplotlib.axes._subplots.AxesSubplot at 0x1a27646e80>"
      ]
     },
     "execution_count": 52,
     "metadata": {},
     "output_type": "execute_result"
    },
    {
     "data": {
      "image/png": "[encoded data removed]",
      "text/plain": [
       "<Figure size 432x288 with 1 Axes>"
      ]
     },
     "metadata": {
      "needs_background": "light"
     },
     "output_type": "display_data"
    }
   ],
   "source": [
    "ddrop.plot.scatter(x='FillNa_Latitude', y='FillNa_Longitude', title='Crime Dataset')"
   ]
  },
  {
   "cell_type": "code",
   "execution_count": 53,
   "metadata": {
    "scrolled": true
   },
   "outputs": [
    {
     "data": {
      "text/plain": [
       "<matplotlib.axes._subplots.AxesSubplot at 0x1a23f80630>"
      ]
     },
     "execution_count": 53,
     "metadata": {},
     "output_type": "execute_result"
    },
    {
     "data": {
      "image/png": "[encoded data removed]",
      "text/plain": [
       "<Figure size 432x288 with 1 Axes>"
      ]
     },
     "metadata": {
      "needs_background": "light"
     },
     "output_type": "display_data"
    }
   ],
   "source": [
    "ddrop['Analysis_Neighborhoods'].value_counts().sort_index().plot.bar()"
   ]
  },
  {
   "cell_type": "code",
   "execution_count": 54,
   "metadata": {},
   "outputs": [
    {
     "data": {
      "text/plain": [
       "<matplotlib.axes._subplots.AxesSubplot at 0x1a2764a898>"
      ]
     },
     "execution_count": 54,
     "metadata": {},
     "output_type": "execute_result"
    },
    {
     "data": {
      "image/png": "[encoded data removed]",
      "text/plain": [
       "<Figure size 432x288 with 1 Axes>"
      ]
     },
     "metadata": {
      "needs_background": "light"
     },
     "output_type": "display_data"
    }
   ],
   "source": [
    "sns.distplot(ddrop['Incident Code'], bins=70, kde=True)"
   ]
  },
  {
   "cell_type": "code",
   "execution_count": 55,
   "metadata": {},
   "outputs": [
    {
     "data": {
      "text/plain": [
       "<matplotlib.axes._subplots.AxesSubplot at 0x1a26d47160>"
      ]
     },
     "execution_count": 55,
     "metadata": {},
     "output_type": "execute_result"
    },
    {
     "data": {
      "image/png": "[encoded data removed]",
      "text/plain": [
       "<Figure size 432x288 with 1 Axes>"
      ]
     },
     "metadata": {
      "needs_background": "light"
     },
     "output_type": "display_data"
    }
   ],
   "source": [
    "df = ddrop[(ddrop['Current_Supervisor_Districts']>=1) & (ddrop['SF_Find_Neighborhoods']<117)]\n",
    "sns.boxplot('Current_Supervisor_Districts','SF_Find_Neighborhoods', data=df)"
   ]
  },
  {
   "cell_type": "code",
   "execution_count": 56,
   "metadata": {},
   "outputs": [
    {
     "data": {
      "text/plain": [
       "<matplotlib.axes._subplots.AxesSubplot at 0x1a27afec50>"
      ]
     },
     "execution_count": 56,
     "metadata": {},
     "output_type": "execute_result"
    },
    {
     "data": {
      "image/png": "[encoded data removed]",
      "text/plain": [
       "<Figure size 720x720 with 2 Axes>"
      ]
     },
     "metadata": {
      "needs_background": "light"
     },
     "output_type": "display_data"
    }
   ],
   "source": [
    "mask = np.zeros_like(dcorr, dtype=np.bool)\n",
    "mask[np.triu_indices_from(mask)] = True\n",
    "\n",
    "f, ax = plt.subplots(figsize=(10,10))\n",
    "\n",
    "cmap = sns.diverging_palette(220, 10, as_cmap=True)\n",
    "\n",
    "sns.heatmap(dcorr, mask=mask, cmap=cmap, vmax=.3, center=0,\n",
    "            square=True, linewidths=.5, cbar_kws={\"shrink\": .5})"
   ]
  },
  {
   "cell_type": "markdown",
   "metadata": {},
   "source": [
    "<ul><li><p>In the visualization we have shown the realtion between data in the form of scatter plot, bar plot, histogram and box plot. The scatter plot shown above shows the relation between the latitude and longitude of San Francisco and shows the area which are highly prone to crime and fraud cases. As per the graph, we can state that the area in SF with latitude from 37.7 to 37.8 are highly affected by crime issues and longitude with value 122.525 and 122.375. Hence, police department needs to be more alert in these areas.</p></li></ul>"
   ]
  },
  {
   "cell_type": "markdown",
   "metadata": {},
   "source": [
    "<ul><li><p> In the bar plot it shows the bar plot of analysis neighbourhood which state that in which area of SF like Tenderloin, Richmond, Castro, Japan Town, South of Market and many other are relation to crime ratio. It can be stated that Tenderloin has the hughest ration of crime followed by Financial Districy and South Beach."
   ]
  },
  {
   "cell_type": "markdown",
   "metadata": {},
   "source": [
    "<ul><li><p>Secondly we have histogram which shows the analysis of crime code i.e which crime is prevailing most in the given county. It is clear from the plot that crime with cide between 7000 and 800 are most prevailing in San Francisco and we are getting Gaussian curve. The Additional Feature of Histogram is KDE. KDE is an acronym of Gaussian Kernel Density Estimate</p></li></ul>\n"
   ]
  },
  {
   "cell_type": "markdown",
   "metadata": {},
   "source": [
    "<ul><li><p>Next is the box plot                               </p></li></ul>"
   ]
  },
  {
   "cell_type": "markdown",
   "metadata": {},
   "source": [
    "<ul><li><p>Last is the correlation plot which shows the correlation between different columns of the dataset. It shows that highest correlation is between latitude vs supervisor district and police district vs longitude. Whereas the lowest relation is found between the columnscurrent supervisor district vs analysis neighbourhood. </p></li></ul>"
   ]
  },
  {
   "cell_type": "markdown",
   "metadata": {},
   "source": [
    "<ul><li><p>Hierarchical clustering is used to classify groups in a dataset or to create dataset. One of the benefit is that it doesn't require prior knowledge of clusters that need to be created. In this method, a number of different algorithms can be used to build dendrograms. Dendrograms are tree like structures to demonstrate the formation of clusters created by hierarchical clustering. In step by step hierarchical clustering, we calculated the distance of all the data points using euclidian distance functions. Linkages were found using the function and we used agglomerative clustering method to form clusters. </p></li></ul>"
   ]
  },
  {
   "cell_type": "markdown",
   "metadata": {},
   "source": [
    "In order to find the clustering of supervised data, we have also used step by step kmeans method which shows the 3d plot. It is a function with 5 inputs: 3 random centoids, dataframe and k value. The function finds the mean of the centroid and the loop continues till the centroids stops moving. From the dendogram we have found the value of k = 3."
   ]
  },
  {
   "cell_type": "markdown",
   "metadata": {},
   "source": [
    "In the sk learn cluster, clustering is performed with the inbuilt function provided by sklearn cluster library.  kNN is the non parametric methos which is used to find the clustering and regression.  k-nearest neighbors algorithm(kNN)"
   ]
  },
  {
   "cell_type": "markdown",
   "metadata": {},
   "source": [
    "<br><b><font face=\"Californian FB\" color=gray size=7>G. Originality</font></b>"
   ]
  },
  {
   "cell_type": "markdown",
   "metadata": {},
   "source": [
    "This dataset has been analysed with linear regression but has never been used for clustering. This is the first time analysis is done using clustering with this dataset"
   ]
  },
  {
   "cell_type": "code",
   "execution_count": null,
   "metadata": {},
   "outputs": [],
   "source": []
  }
 ],
 "metadata": {
  "kernelspec": {
   "display_name": "Python 3",
   "language": "python",
   "name": "python3"
  },
  "language_info": {
   "codemirror_mode": {
    "name": "ipython",
    "version": 3
   },
   "file_extension": ".py",
   "mimetype": "text/x-python",
   "name": "python",
   "nbconvert_exporter": "python",
   "pygments_lexer": "ipython3",
   "version": "3.7.3"
  }
 },
 "nbformat": 4,
 "nbformat_minor": 2
}
